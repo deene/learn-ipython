{
 "metadata": {
  "name": "",
  "signature": "sha256:c5531070fed0648f3e0fe4bbae0f36dc221d5bf7a42c968c0105824e7856f11d"
 },
 "nbformat": 3,
 "nbformat_minor": 0,
 "worksheets": [
  {
   "cells": [
    {
     "cell_type": "code",
     "collapsed": false,
     "input": [
      "%matplotlib inline\n",
      "\n",
      "import pandas as pd\n",
      "import matplotlib.pyplot as plt\n",
      "\n",
      "# Generate the data\n",
      "ix3 = pd.MultiIndex.from_arrays([['a', 'a', 'a', 'a', 'b', 'b', 'b', 'b'], ['foo', 'foo', 'bar', 'bar', 'foo', 'foo', 'bar', 'bar']], names=['letter', 'word'])\n",
      "\n",
      "df3 = pd.DataFrame({'data1': [3, 2, 4, 3, 2, 4, 3, 2], 'data2': [6, 5, 7, 5, 4, 5, 6, 5]}, index=ix3)\n",
      "\n",
      "# Group by index labels and take the means and standard deviations for each group\n",
      "gp3 = df3.groupby(level=('letter', 'word'))\n",
      "print df3\n",
      "\n",
      "means = gp3.mean()\n",
      "errors = gp3.std()\n",
      "\n",
      "means\n",
      "errors\n",
      "\n",
      "# Plot\n",
      "fig, ax = plt.subplots()\n",
      "means.plot(yerr=errors, ax=ax, kind='bar')\n"
     ],
     "language": "python",
     "metadata": {},
     "outputs": [
      {
       "output_type": "stream",
       "stream": "stdout",
       "text": [
        "             data1  data2\n",
        "letter word              \n",
        "a      foo       3      6\n",
        "       foo       2      5\n",
        "       bar       4      7\n",
        "       bar       3      5\n",
        "b      foo       2      4\n",
        "       foo       4      5\n",
        "       bar       3      6\n",
        "       bar       2      5\n"
       ]
      },
      {
       "metadata": {},
       "output_type": "pyout",
       "prompt_number": 6,
       "text": [
        "<matplotlib.axes._subplots.AxesSubplot at 0x111c47350>"
       ]
      },
      {
       "metadata": {},
       "output_type": "display_data",
       "png": "[encoded data removed]",
       "text": [
        "<matplotlib.figure.Figure at 0x10e2d7450>"
       ]
      }
     ],
     "prompt_number": 6
    },
    {
     "cell_type": "code",
     "collapsed": false,
     "input": [],
     "language": "python",
     "metadata": {},
     "outputs": []
    }
   ],
   "metadata": {}
  }
 ]
}