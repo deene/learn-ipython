{
 "metadata": {
  "name": "",
  "signature": "sha256:2bb257f05a869103c935aa77c21c4e1c455581a444adee49a8c6980db4e0b0f1"
 },
 "nbformat": 3,
 "nbformat_minor": 0,
 "worksheets": [
  {
   "cells": [
    {
     "cell_type": "markdown",
     "metadata": {},
     "source": [
      "# AWESOME TITLE!\n",
      "\n",
      "\u4f7f\u7528iPython Notebook\u7684\u4f53\u9a8c\u5b9e\u5728\u662f\u5f88\u4e0d\u9519\u554a\uff01\u8fd9\u4e2a\u5de5\u5177\u505a\u7684\u975e\u5e38\u597d\uff01\n",
      "\u53ef\u4ee5\u7528\u8fd9\u4e2a\u6765\u5199\u6587\u6863\u4e86\u3002\u7528\u6765\u505a\u5b9e\u9a8c\u7b14\u8bb0\u6216\u8005\u6587\u6863\u4ec0\u4e48\u7684\u771f\u7684\u662f\u975e\u5e38\u9002\u5408\u7684\u3002\u5c31\u662f\u4e0d\u77e5\u9053\u8d34\u56fe\u7684\u529f\u80fd\u600e\u4e48\u6837\u3002\n",
      "\u603b\u4e4b\u5148\u8bb0\u5f55\u4e00\u4e0b\u5b66\u4e60\u8fc7\u7a0b\u5427\u3002"
     ]
    },
    {
     "cell_type": "markdown",
     "metadata": {},
     "source": [
      "## \u600e\u6837\u4f7f\u7528iPython\u548c\u5b83\u7684Notebook web\u7aef\n",
      "\n",
      "\u4f7f\u7528iPython Notebook\u7684\u65b9\u6cd5\u548c\u7b80\u5355\u3002\u548c\u522b\u7684\u6240\u6709github\u9879\u76ee\u4e00\u6837\uff0c\u5148\u65b0\u5efa\u4e00\u4e2a\u76ee\u5f55\uff0c\u5728\u8fd9\u4e2a\u76ee\u5f55\u4e2d\u4f7f\u7528virtualenv\u521b\u5efa\u4e00\u4e2a\u672c\u5730\u7684python\u73af\u5883\uff0c\u7136\u540e\u4f7f\u7528\uff1a\n",
      "\n",
      "```Shell\n",
      "pip install ipython[all]\n",
      "```\n",
      "\n",
      "\u6765\u5b89\u88c5ipython\u548c\u6240\u6709\u6709\u5173\u7684\u5e93\u6587\u4ef6\u3002\u5b89\u88c5\u5b8c\u6210\u540e\uff0c\u53ef\u4ee5\u5728\u547d\u4ee4\u884c\u7528ipython notebook\u6765\u542f\u52a8\u8fd9\u4e2aweb\u7f16\u8f91\u5668\u4e86\u3002"
     ]
    },
    {
     "cell_type": "code",
     "collapsed": false,
     "input": [
      "print \"Hellow World!\""
     ],
     "language": "python",
     "metadata": {},
     "outputs": [
      {
       "output_type": "stream",
       "stream": "stdout",
       "text": [
        "Hellow World!\n"
       ]
      }
     ],
     "prompt_number": 4
    },
    {
     "cell_type": "code",
     "collapsed": false,
     "input": [],
     "language": "python",
     "metadata": {},
     "outputs": []
    }
   ],
   "metadata": {}
  }
 ]
}