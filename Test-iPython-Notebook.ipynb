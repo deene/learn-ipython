{
 "metadata": {
  "name": "",
  "signature": "sha256:e4b5366c2159b9dcc6be3d88db3be864da3be09e579e866e98e5d1c2d9ee4e77"
 },
 "nbformat": 3,
 "nbformat_minor": 0,
 "worksheets": [
  {
   "cells": [
    {
     "cell_type": "markdown",
     "metadata": {},
     "source": [
      "# AWESOME TITLE!\n",
      "\n",
      "\u4f7f\u7528iPython Notebook\u7684\u4f53\u9a8c\u5b9e\u5728\u662f\u5f88\u4e0d\u9519\u554a\uff01\u8fd9\u4e2a\u5de5\u5177\u505a\u7684\u975e\u5e38\u597d\uff01\n",
      "\u53ef\u4ee5\u7528\u8fd9\u4e2a\u6765\u5199\u6587\u6863\u4e86\u3002\u7528\u6765\u505a\u5b9e\u9a8c\u7b14\u8bb0\u6216\u8005\u6587\u6863\u4ec0\u4e48\u7684\u771f\u7684\u662f\u975e\u5e38\u9002\u5408\u7684\u3002\u5c31\u662f\u4e0d\u77e5\u9053\u8d34\u56fe\u7684\u529f\u80fd\u600e\u4e48\u6837\u3002\n",
      "\u603b\u4e4b\u5148\u8bb0\u5f55\u4e00\u4e0b\u5b66\u4e60\u8fc7\u7a0b\u5427\u3002"
     ]
    },
    {
     "cell_type": "markdown",
     "metadata": {},
     "source": [
      "## \u600e\u6837\u4f7f\u7528iPython\u548c\u5b83\u7684Notebook web\u7aef\n",
      "\n",
      "\u4f7f\u7528iPython Notebook\u7684\u65b9\u6cd5\u548c\u7b80\u5355\u3002\u548c\u522b\u7684\u6240\u6709github\u9879\u76ee\u4e00\u6837\uff0c\u5148\u65b0\u5efa\u4e00\u4e2a\u76ee\u5f55\uff0c\u5728\u8fd9\u4e2a\u76ee\u5f55\u4e2d\u4f7f\u7528virtualenv\u521b\u5efa\u4e00\u4e2a\u672c\u5730\u7684python\u73af\u5883\uff0c\u7136\u540e\u4f7f\u7528\uff1a\n",
      "\n",
      "```Shell\n",
      "pip install ipython[all]\n",
      "```\n",
      "\n",
      "\u6765\u5b89\u88c5ipython\u548c\u6240\u6709\u6709\u5173\u7684\u5e93\u6587\u4ef6\u3002\u5b89\u88c5\u5b8c\u6210\u540e\uff0c\u53ef\u4ee5\u5728\u547d\u4ee4\u884c\u7528ipython notebook\u6765\u542f\u52a8\u8fd9\u4e2aweb\u7f16\u8f91\u5668\u4e86\u3002"
     ]
    },
    {
     "cell_type": "code",
     "collapsed": false,
     "input": [
      "print \"Hellow World!\""
     ],
     "language": "python",
     "metadata": {},
     "outputs": [
      {
       "output_type": "stream",
       "stream": "stdout",
       "text": [
        "Hellow World!\n"
       ]
      }
     ],
     "prompt_number": 4
    },
    {
     "cell_type": "markdown",
     "metadata": {},
     "source": [
      "## \u5982\u4f55\u4f7f\u7528urllib\u6765\u6293\u53d6\u80a1\u7968\u6570\u636e\n",
      "\n",
      "\u9996\u5148\u5c31\u662f\u4e00\u4e9b\u7b80\u5355\u7684\u5e93\u5bfc\u5165\u64cd\u4f5c\u3002yahoo\u7684api\u6539\u4e86\u5f88\u591a\uff0c\u597d\u50cf\u53ea\u7528600036.sh\u4ee3\u7801\u5df2\u7ecf\u6293\u4e0d\u5230\u4e2d\u56fd\u7684\u6570\u636e\u4e86\uff0c\u8bb0\u5f97\u51e0\u5e74\u4ee5\u524d\u6211\u5728Yahoo\u8fd8\u662f\u53ef\u4ee5\u627e\u5230\u4e2d\u56fd\u7684\u6570\u636e\u7684\u3002\n",
      "\n",
      "### \u6293\u53d6Yahoo\u7684\u6570\u636e\n",
      "\n",
      "\u73b0\u5728\u7684yahoo\u8fd8\u662f\u53ef\u4ee5\u6293\u7f8e\u56fd\u548c\u52a0\u62ff\u5927\u80a1\u5e02\u7684\u6570\u636e\u7684\u3002"
     ]
    },
    {
     "cell_type": "code",
     "collapsed": false,
     "input": [
      "import urllib2, urllib\n",
      "print \"\\nStarting the app\"\n",
      "\n",
      "url = 'http://ichart.finance.yahoo.com/table.csv?s=MSFT&d=0&e=28&f=2010&g=d&a=3&b=12&c=1996&ignore=.csv'\n",
      "url = ''\n",
      "\n",
      "try:\n",
      "    content = urllib2.urlopen(url).read()\n",
      "    print content\n",
      "except:\n",
      "    print \"URL Error\""
     ],
     "language": "python",
     "metadata": {},
     "outputs": [
      {
       "output_type": "stream",
       "stream": "stdout",
       "text": [
        "\n",
        "Starting the app\n",
        "URL Error\n"
       ]
      }
     ],
     "prompt_number": 1
    },
    {
     "cell_type": "markdown",
     "metadata": {},
     "source": [
      "### \u6293\u53d6\u4e2d\u56fd\u80a1\u5e02\u7684\u6570\u636e\n",
      "\n",
      "\u4e2d\u56fd\u7684\u6570\u636e\u5c31\u8981\u4ece\u65b0\u6d6a\u4e4b\u7c7b\u7684\u56fd\u5185\u4f9b\u5e94\u5546\u90a3\u91cc\u83b7\u5f97\u4e86\u3002\u73b0\u5728\u5e94\u8be5\u8981\u6293\u7d27\u4e0b\u624b\u4e86\uff0c\u8bf4\u4e0d\u5b9a\u54ea\u5929\u5c31\u4e0d\u80fd\u4e0b\u8f7d\u4e86\u3002\u4f46\u662f\u65b0\u6d6a\u7684\u6570\u636e\u6293\u4e0b\u6765\u6709\u597d\u591a\u4e71\u7801\uff0c\u4e0d\u77e5\u9053\u600e\u4e48\u5904\u7406\u3002"
     ]
    },
    {
     "cell_type": "code",
     "collapsed": false,
     "input": [
      "url = 'http://market.finance.sina.com.cn/downxls.php?date=2014-12-10&symbol=sh600900'\n",
      "url = ''\n",
      "\n",
      "try:\n",
      "    content = urllib2.urlopen(url).read()\n",
      "    print content\n",
      "except:\n",
      "    print \"URL Error\""
     ],
     "language": "python",
     "metadata": {},
     "outputs": [
      {
       "output_type": "stream",
       "stream": "stdout",
       "text": [
        "URL Error\n"
       ]
      }
     ],
     "prompt_number": 5
    },
    {
     "cell_type": "markdown",
     "metadata": {},
     "source": [
      "## \u4f7f\u7528python\u6765\u89e3\u8bfbPDF\u6587\u4ef6\n",
      "\n",
      "\u7f51\u4e0a\u6709\u5173PDF parse\u7684\u5f00\u6e90\u8f6f\u4ef6\u4e0d\u591a\uff0c\u770b\u5230\u4e00\u4e2a\u6bd4\u8f83\u9760\u8c31\u7684[PoDoFo](http://podofo.sourceforge.net/about.html), \u4f7f\u7528c++\u5199\u7684\uff0c\u4f46\u636e\u5b83\u81ea\u5df1\u7684\u4ecb\u7ecd\uff0c\u597d\u50cf\u6293\u53d6\u5168\u6587\u4e5f\u4e0d\u662f\u5f88\u6210\u719f\u7684\u6837\u5b50\u3002[\u8fd9\u7bc7stackoverflow\u7684\u56de\u7b54](http://stackoverflow.com/questions/11715561/pdf-parsing-in-c-podofo)\u89e3\u91ca\u4e86\u600e\u4e48\u7528PoDoFo\u6765\u63d0\u53d6pdf\u5185\u5bb9\uff0c\u5982\u679c\u6709\u65f6\u95f4\u53ef\u4ee5\u62ff\u6765\u8bd5\u4e00\u4e0b\u3002\n",
      "\n",
      "[\u8fd9\u4e2astackoverflow](http://reverseengineering.stackexchange.com/questions/1526/open-source-gui-tool-for-decomposing-a-pdf)\u91cc\u9762\u5217\u51fa\u4e86\u4e00\u4e9b\u53ef\u80fd\u80fd\u7528\u7684PDF parser\uff0c\u91cc\u9762\u57fa\u4e8eruby\u7684\u90a3\u4e2apdfextractor\u597d\u50cf\u53ef\u4ee5\u770b\u770b\u3002\n",
      "\n",
      "\u53e6\u4e00\u4e2a\u8f6f\u4ef6\u662f[PDFminer](http://www.unixuser.org/~euske/python/pdfminer/)\uff0c\u8fd9\u4e2a\u662f\u7528\u7eafpython\u5199\u7684\uff0c\u6bd4\u8f83\u6162\u3002\u4e0d\u8fc7\u8fd8\u662f\u5148\u7528\u8fd9\u4e2a\u5427\uff0c\u81f3\u5c11\u4e0d\u7528\u50cfC++\u90a3\u6837\u7f16\u8bd1\uff0c\u53ef\u4ee5\u62ff\u6765\u5c31\u7528\u3002\u8bd5\u8bd5\u5148\u3002"
     ]
    },
    {
     "cell_type": "code",
     "collapsed": false,
     "input": [],
     "language": "python",
     "metadata": {},
     "outputs": [],
     "prompt_number": 0
    },
    {
     "cell_type": "code",
     "collapsed": false,
     "input": [],
     "language": "python",
     "metadata": {},
     "outputs": []
    }
   ],
   "metadata": {}
  }
 ]
}