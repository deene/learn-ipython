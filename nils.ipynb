{
 "metadata": {
  "name": "",
  "signature": "sha256:df554af768215ac4d51552f9066d119bcc3849ee8a33f0df9ca5b7618b811f3f"
 },
 "nbformat": 3,
 "nbformat_minor": 0,
 "worksheets": [
  {
   "cells": [
    {
     "cell_type": "code",
     "collapsed": false,
     "input": [
      "import json\n",
      "import numpy as np\n",
      "import pandas as pd\n",
      "import matplotlib.pyplot as plt\n",
      "from sklearn.feature_extraction.text import CountVectorizer\n",
      "from sklearn.feature_extraction.text import TfidfVectorizer\n",
      "\n",
      "text_file=open('./nyls.txt')\n",
      "\n",
      "all_text = text_file.read().split('\\n')\n",
      "\n",
      "cv = CountVectorizer(min_df=1)\n",
      "counts = cv.fit_transform(all_text).toarray().ravel() \n",
      "words = np.array(cv.get_feature_names())\n",
      "\n",
      "print words\n",
      "\n",
      "# tempResult = {}\n",
      "\n",
      "# ignore_list = ()\n",
      "\n",
      "# for i in range(0,len(counts)-1):\n",
      "#     if words[i] not in ignore_list:\n",
      "#         tempResult[words[i]] = counts[i]\n",
      "\n",
      "# print len(tempResult.keys())\n"
     ],
     "language": "python",
     "metadata": {},
     "outputs": [
      {
       "output_type": "stream",
       "stream": "stdout",
       "text": [
        "[u'02' u'033' u'09j' ..., u'\\xf6vre' u'\\xf6vriga' u'\\xf6vrigt']\n"
       ]
      }
     ],
     "prompt_number": 6
    },
    {
     "cell_type": "code",
     "collapsed": false,
     "input": [],
     "language": "python",
     "metadata": {},
     "outputs": []
    }
   ],
   "metadata": {}
  }
 ]
}