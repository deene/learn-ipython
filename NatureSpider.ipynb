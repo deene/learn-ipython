{
 "metadata": {
  "name": "",
  "signature": "sha256:5be1d71919aff94b4c919d3016b37637212be8b594e3e0c2892d892c907b9629"
 },
 "nbformat": 3,
 "nbformat_minor": 0,
 "worksheets": [
  {
   "cells": [
    {
     "cell_type": "markdown",
     "metadata": {},
     "source": [
      "# Work Summary\n",
      "\n",
      "Get This is the summary of how to download and analyze data by the Nature Open Search API"
     ]
    },
    {
     "cell_type": "markdown",
     "metadata": {},
     "source": [
      "## One class to download json from Nature\n",
      "\n",
      "The following class downloads takes in the journal name and year as argument and uses the [Nature API](http://www.nature.com/developers/documentation/api-references/opensearch-api/) to download all the articles of that year and journal. The result is then stored in a json object array file, named by the journal name and year, i.e. nnano-2011.json."
     ]
    },
    {
     "cell_type": "code",
     "collapsed": false,
     "input": [
      "import json\n",
      "import urllib2, urllib\n",
      "import time\n",
      "\n",
      "class NatureAgent:\n",
      "    'Common base class for all journal downloads'\n",
      "    \n",
      "    def __init__(self, name):\n",
      "        self.name = name\n",
      "    \n",
      "    def download(self, productCode, year, fileName):\n",
      "        content = None # to store the response of the query\n",
      "        jsonObjArray = [] # to store all the entries extracted from the response\n",
      "        \n",
      "        print \"Start Download\" + ' ' + productCode + ' ' + str(year) + ' into file: ' + fileName\n",
      "        myfile = open(fileName, 'w+')\n",
      "\n",
      "        # loop months\n",
      "        for month in range(1,13):\n",
      "            if month < 10:\n",
      "                thisMonth =  '0' + str(month)\n",
      "            else:\n",
      "                thisMonth = str(month)\n",
      "\n",
      "            # loop days\n",
      "            for day in range(1,32):\n",
      "\n",
      "                # make all day number two digits\n",
      "                if day<10:\n",
      "                    thisDay = '0' + str(day)\n",
      "                else:\n",
      "                    thisDay = str(day)\n",
      "\n",
      "                # construct the targetDate string\n",
      "                targetDate = str(year) + '-' + thisMonth + '-' + thisDay\n",
      "                print targetDate,\n",
      "\n",
      "                # construct the queryWord to be sent\n",
      "                queryWord = 'prism.productCode=' + productCode + '+AND+prism.publicationDate=' + targetDate\n",
      "                url = 'http://api.nature.com/content/opensearch/request?&recordPacking=unpacked&queryType=cql&maximumRecords=100&httpAccept=application/json&query=' + queryWord\n",
      "\n",
      "                # start the query by calling urllib2\n",
      "                try:\n",
      "                    content = urllib2.urlopen(url).read()\n",
      "                    data = json.loads(content)\n",
      "                except:\n",
      "                    print \"URL error\"\n",
      "                    continue\n",
      "\n",
      "                # if the response is not empty, then extract the entries\n",
      "                if data['feed']['opensearch:totalResults'] != 0:\n",
      "                    for entry in data['feed'][\"entry\"]:\n",
      "                        jsonObjArray.append(entry)\n",
      "                    print \"Result found\"\n",
      "                else:\n",
      "                    print \"No result found!\"\n",
      "\n",
      "                # put a delay so that we don't overload the nature servers\n",
      "                time.sleep(1)\n",
      "\n",
      "        # store the entries to the output file\n",
      "        json.dump(jsonObjArray, myfile, indent=4)\n",
      "        myfile.close()"
     ],
     "language": "python",
     "metadata": {},
     "outputs": [],
     "prompt_number": 36
    },
    {
     "cell_type": "markdown",
     "metadata": {},
     "source": [
      "## Go through all the nature products\n",
      "\n",
      "The following code go through all the nature product codes stored in natureProductCodes.py and download them all into the disk."
     ]
    },
    {
     "cell_type": "code",
     "collapsed": false,
     "input": [
      "import natureProductCodes\n",
      "\n",
      "for journalName, code in natureProductCodes.natureProductCodes.items():\n",
      "    for year in range(2006,2015):\n",
      "        print journalName + code + str(year)\n",
      "        agent = NatureAgent('nature')\n",
      "        fileName = code + '-' + str(year) + '.json'\n",
      "        agent.download(code, year, fileName)"
     ],
     "language": "python",
     "metadata": {},
     "outputs": [
      {
       "output_type": "stream",
       "stream": "stdout",
       "text": [
        "Oncogeneonc2006\n",
        "Start Download onc 2006 into file: onc-2006.json\n",
        "2006-01-01 "
       ]
      },
      {
       "output_type": "stream",
       "stream": "stdout",
       "text": [
        "No result found!\n",
        "2006-01-02"
       ]
      },
      {
       "output_type": "stream",
       "stream": "stdout",
       "text": [
        " No result found!\n",
        "2006-01-03"
       ]
      }
     ]
    },
    {
     "cell_type": "code",
     "collapsed": false,
     "input": [],
     "language": "python",
     "metadata": {},
     "outputs": [],
     "prompt_number": 9
    },
    {
     "cell_type": "code",
     "collapsed": false,
     "input": [],
     "language": "python",
     "metadata": {},
     "outputs": []
    }
   ],
   "metadata": {}
  }
 ]
}