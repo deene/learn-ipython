{
 "metadata": {
  "name": "",
  "signature": "sha256:e8e126efb81b1b87496901282d588b119641c0f81ab9af1ed31b1de22054aad5"
 },
 "nbformat": 3,
 "nbformat_minor": 0,
 "worksheets": [
  {
   "cells": [
    {
     "cell_type": "markdown",
     "metadata": {},
     "source": [
      "# This notebook is dedicated to the study of data mining"
     ]
    },
    {
     "cell_type": "markdown",
     "metadata": {},
     "source": [
      "## How to download from Nature\n",
      "\n",
      "The below code downloads data from nature and save into json."
     ]
    },
    {
     "cell_type": "markdown",
     "metadata": {},
     "source": [
      "## How to parse XML in Python?\n",
      "\n",
      "[This stackoverflow post](http://stackoverflow.com/questions/1912434/how-do-i-parse-xml-in-python) explains how to use Python to parse XML.\n",
      "\n",
      "minidom is the quickest and pretty straight forward:\n",
      "\n",
      "```XML\n",
      "<data>\n",
      "    <items>\n",
      "        <item name=\"item1\"></item>\n",
      "        <item name=\"item2\"></item>\n",
      "        <item name=\"item3\"></item>\n",
      "        <item name=\"item4\"></item>\n",
      "    </items>\n",
      "</data>\n",
      "```\n",
      "\n",
      "```Python\n",
      "from xml.dom import minidom\n",
      "xmldoc = minidom.parse('items.xml')\n",
      "itemlist = xmldoc.getElementsByTagName('item') \n",
      "print len(itemlist)\n",
      "print itemlist[0].attributes['name'].value\n",
      "for s in itemlist :\n",
      "    print s.attributes['name'].value\n",
      "```\n",
      "\n",
      "```Output\n",
      "4\n",
      "item1\n",
      "item1\n",
      "item2\n",
      "item3\n",
      "item4\n",
      "```\n",
      "\n",
      "And I can use the ```s.childNodes[0].nodeValue``` to get the inner value.\n",
      "\n",
      "Below is the test code working on the nature-2010.xml that I downloaded from Nature. I can use the [intentXML](https://github.com/alek-sys/sublimetext_indentxml) sublime plugin to make the XML file look nicer."
     ]
    },
    {
     "cell_type": "markdown",
     "metadata": {},
     "source": [
      "But this code does not work as the xml file downloaded from nature is kind of [junky](http://stackoverflow.com/questions/26008046/xml-parsing-error-junk-after-document-element-in-twilio).\n",
      "\n",
      "So instead, I try the json approach. (use the [prettyJSON](https://github.com/dzhibas/SublimePrettyJson) sublime plugin to make the json file look nicer."
     ]
    },
    {
     "cell_type": "code",
     "collapsed": false,
     "input": [
      "#!/usr/bin/env python\n",
      "# -*- coding: utf-8 -*-\n",
      "\n",
      "import json\n",
      "from pprint import pprint\n",
      "\n",
      "def count_word(split_string):\n",
      "    print 'Here should I count word'\n",
      "    word_array = split_string.split()\n",
      "    return 0\n",
      "\n",
      "json_data=open('./Nature-record.json')\n",
      "data = json.load(json_data)\n",
      "\n",
      "split_string = ''\n",
      "for entry in data['feed']['entry']:\n",
      "    if entry[u'dc:description']:\n",
      "        split_string = entry[u'dc:description'].replace('<p>','')\n",
      "        count_word(split_string)\n",
      "\n",
      "json_data.close()"
     ],
     "language": "python",
     "metadata": {},
     "outputs": [
      {
       "output_type": "stream",
       "stream": "stdout",
       "text": [
        "Here should I count word\n",
        "Here should I count word\n",
        "Here should I count word\n",
        "Here should I count word\n",
        "Here should I count word\n",
        "Here should I count word\n",
        "Here should I count word\n",
        "Here should I count word\n",
        "Here should I count word\n",
        "Here should I count word\n",
        "Here should I count word\n",
        "Here should I count word\n",
        "Here should I count word\n",
        "Here should I count word\n",
        "Here should I count word\n",
        "Here should I count word\n",
        "Here should I count word\n",
        "Here should I count word\n",
        "Here should I count word\n",
        "Here should I count word\n",
        "Here should I count word\n",
        "Here should I count word\n",
        "Here should I count word\n",
        "Here should I count word\n",
        "Here should I count word\n",
        "Here should I count word\n",
        "Here should I count word\n",
        "Here should I count word\n",
        "Here should I count word\n",
        "Here should I count word\n",
        "Here should I count word\n",
        "Here should I count word\n",
        "Here should I count word\n",
        "Here should I count word\n",
        "Here should I count word\n",
        "Here should I count word\n",
        "Here should I count word\n",
        "Here should I count word\n",
        "Here should I count word\n",
        "Here should I count word\n",
        "Here should I count word\n",
        "Here should I count word\n",
        "Here should I count word\n",
        "Here should I count word\n",
        "Here should I count word\n",
        "Here should I count word\n",
        "Here should I count word\n",
        "Here should I count word\n",
        "Here should I count word\n"
       ]
      }
     ],
     "prompt_number": 28
    },
    {
     "cell_type": "code",
     "collapsed": false,
     "input": [],
     "language": "python",
     "metadata": {},
     "outputs": []
    }
   ],
   "metadata": {}
  }
 ]
}