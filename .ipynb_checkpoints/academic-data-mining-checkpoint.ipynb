{
 "metadata": {
  "name": "",
  "signature": "sha256:8b4586c15852a3003576148aecfe7f5fa4be78319b83ab599671c2fd0f8c566b"
 },
 "nbformat": 3,
 "nbformat_minor": 0,
 "worksheets": [
  {
   "cells": [
    {
     "cell_type": "markdown",
     "metadata": {},
     "source": [
      "# This notebook is dedicated to the study of data mining"
     ]
    },
    {
     "cell_type": "markdown",
     "metadata": {},
     "source": [
      "## How to download from Nature\n",
      "\n",
      "The below code downloads data from nature and save into json."
     ]
    },
    {
     "cell_type": "markdown",
     "metadata": {},
     "source": [
      "## How to parse XML in Python?\n",
      "\n",
      "[This stackoverflow post](http://stackoverflow.com/questions/1912434/how-do-i-parse-xml-in-python) explains how to use Python to parse XML.\n",
      "\n",
      "minidom is the quickest and pretty straight forward:\n",
      "\n",
      "```XML\n",
      "<data>\n",
      "    <items>\n",
      "        <item name=\"item1\"></item>\n",
      "        <item name=\"item2\"></item>\n",
      "        <item name=\"item3\"></item>\n",
      "        <item name=\"item4\"></item>\n",
      "    </items>\n",
      "</data>\n",
      "```\n",
      "\n",
      "```Python\n",
      "from xml.dom import minidom\n",
      "xmldoc = minidom.parse('items.xml')\n",
      "itemlist = xmldoc.getElementsByTagName('item') \n",
      "print len(itemlist)\n",
      "print itemlist[0].attributes['name'].value\n",
      "for s in itemlist :\n",
      "    print s.attributes['name'].value\n",
      "```\n",
      "\n",
      "```Output\n",
      "4\n",
      "item1\n",
      "item1\n",
      "item2\n",
      "item3\n",
      "item4\n",
      "```\n",
      "\n",
      "And I can use the ```s.childNodes[0].nodeValue``` to get the inner value.\n",
      "\n",
      "Below is the test code working on the nature-2010.xml that I downloaded from Nature. I can use the [intentXML](https://github.com/alek-sys/sublimetext_indentxml) sublime plugin to make the XML file look nicer."
     ]
    },
    {
     "cell_type": "markdown",
     "metadata": {},
     "source": [
      "But this code does not work as the xml file downloaded from nature is kind of [junky](http://stackoverflow.com/questions/26008046/xml-parsing-error-junk-after-document-element-in-twilio).\n",
      "\n",
      "So instead, I try the json approach. (use the [prettyJSON](https://github.com/dzhibas/SublimePrettyJson) sublime plugin to make the json file look nicer."
     ]
    },
    {
     "cell_type": "markdown",
     "metadata": {},
     "source": [
      "## Python Class Learning\n",
      "\n",
      "In order to count the occurance of words in all texts, I need to create a WordCount class. This class should have a function which takes in a certain string, count the occurance of each word in that string, and add the result to the previously stored values in that class. So below is the code to make such a class."
     ]
    },
    {
     "cell_type": "code",
     "collapsed": false,
     "input": [
      "#!/usr/bin/env python\n",
      "# -*- coding: utf-8 -*-\n",
      "\n",
      "import json\n",
      "from pprint import pprint\n",
      "\n",
      "class WordCount:\n",
      "    \"\"\"A simple word count class\"\"\"\n",
      "    def __init__(self):\n",
      "        self.word_table = {}\n",
      "        self.msg = ''\n",
      "        self.ignore_list = ('of', 'the', 'a', 'to', 'and', 'in', 'be', 'as', \\\n",
      "                            'that', 'this', 'can', 'for', 'have', 'is', 'with', \\\n",
      "                            'by', 'are', 'used', 'such', 'on', 'it', 'at', 'from', \\\n",
      "                            'high', 'has', 'an', 'which', '(', ')', ',', 'made', 'its', \\\n",
      "                            'new', '2013', '.', 'two', '-', 'researchers', 'been', 'or', \\\n",
      "                            'using', 'state', '\\\u2014', 'not')\n",
      "\n",
      "    def append(self, string):\n",
      "        # print 'Analyzing...'\n",
      "        new_word_array = split_string.split()\n",
      "        \n",
      "        for aword in new_word_array:\n",
      "            # ignore the normal words\n",
      "            if aword in self.ignore_list:\n",
      "                continue\n",
      "            if aword in self.word_table:\n",
      "                # if the word exists, add 1\n",
      "                self.word_table[aword] = self.word_table[aword] + 1\n",
      "            else:\n",
      "                # if the word does not exist, init the key with 1\n",
      "                self.word_table[aword] = 1\n",
      "                \n",
      "        return self.msg"
     ],
     "language": "python",
     "metadata": {},
     "outputs": [],
     "prompt_number": 1
    },
    {
     "cell_type": "markdown",
     "metadata": {},
     "source": [
      "Now I need to take in the description of each entry from the json file and feed it into the WordCount class."
     ]
    },
    {
     "cell_type": "code",
     "collapsed": false,
     "input": [
      "json_data=open('./Nature-record.json')\n",
      "data = json.load(json_data)\n",
      "word_count = WordCount()\n",
      "\n",
      "split_string = ''\n",
      "for entry in data['feed']['entry']:\n",
      "    if entry[u'dc:description']:\n",
      "        split_string = entry[u'dc:description'].replace('<p>', '').replace('-', ' ').lower()\n",
      "        word_count.append(split_string)"
     ],
     "language": "python",
     "metadata": {},
     "outputs": [],
     "prompt_number": 5
    },
    {
     "cell_type": "markdown",
     "metadata": {},
     "source": [
      "Here I have the need to sort word_table by each key value. So I take this chance and start to learn a bit about NumPy, SciPy and Pandas."
     ]
    },
    {
     "cell_type": "code",
     "collapsed": false,
     "input": [
      "import numpy as np\n",
      "import pandas as pd\n",
      "from pandas import *\n",
      "import matplotlib.pyplot as plt"
     ],
     "language": "python",
     "metadata": {},
     "outputs": [],
     "prompt_number": 3
    },
    {
     "cell_type": "markdown",
     "metadata": {},
     "source": [
      "Series is a one-dimensional labeled array capable of holding any data type (integers, strings, floating point numbers, Python objects, etc.). The axis labels are collectively referred to as the index. The basic method to create a Series is to call:\n",
      "\n",
      "```\n",
      "s = Series(data, index=index)\n",
      "```\n",
      "\n",
      "Here, data can be many different things:\n",
      "\n",
      "- a Python dict\n",
      "- an ndarray\n",
      "- a scalar value (like 5)\n",
      "\n",
      "Here in this app, we use dict. Before counting the actual science words, I need to create a table containing all the \"normal\" english words such as 'as', 'of', 'but'. These words should be ignored in the counting. The word table will be screened against this normal word table to eliminate these words first. This is done inthe WordCount class's ignore_list - well, after some test, I found that the list can go so long that it is not practical to manually list it. Need some algo to construct such a list."
     ]
    },
    {
     "cell_type": "code",
     "collapsed": false,
     "input": [
      "s = Series(word_count.word_table)\n",
      "print s.order()"
     ],
     "language": "python",
     "metadata": {},
     "outputs": [
      {
       "output_type": "stream",
       "stream": "stdout",
       "text": [
        "'graphene                 1\n",
        "'pumping'                 1\n",
        "'qing'.                   1\n",
        "'tune'                    1\n",
        "'windows',                1\n",
        "(2011)                    1\n",
        "(small                    1\n",
        "(zno)                     1\n",
        "),                        1\n",
        ").                        1\n",
        ");                        1\n",
        "10.1021/nl1024744         1\n",
        "10.1021/nn4012253         1\n",
        "10.1038/nnano.2010.132    1\n",
        "14                        1\n",
        "...\n",
        "could          5\n",
        "devices        5\n",
        "electron       5\n",
        "electronic     5\n",
        "not            5\n",
        "properties     5\n",
        "structure      5\n",
        "atoms          7\n",
        "nature         7\n",
        "spin           7\n",
        "layer          8\n",
        "single        11\n",
        "carbon        13\n",
        "\u2014             14\n",
        "graphene      35\n",
        "Length: 726, dtype: int64\n"
       ]
      }
     ],
     "prompt_number": 4
    },
    {
     "cell_type": "markdown",
     "metadata": {},
     "source": [
      "I can use the order() and sort() function of a Series to sort the Series by value. order() returns a new array and sort() is in place."
     ]
    },
    {
     "cell_type": "code",
     "collapsed": false,
     "input": [],
     "language": "python",
     "metadata": {},
     "outputs": [],
     "prompt_number": 4
    }
   ],
   "metadata": {}
  }
 ]
}