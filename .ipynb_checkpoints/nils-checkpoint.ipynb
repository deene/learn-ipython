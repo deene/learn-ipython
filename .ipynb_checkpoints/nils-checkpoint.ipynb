{
 "metadata": {
  "name": "",
  "signature": "sha256:e8b49d2b5a079d4c59c47926758022418a425d50893529dc9c17f07bbc342d06"
 },
 "nbformat": 3,
 "nbformat_minor": 0,
 "worksheets": []
}