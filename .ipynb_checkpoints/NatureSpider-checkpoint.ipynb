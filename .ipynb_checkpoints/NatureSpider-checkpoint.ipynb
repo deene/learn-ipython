{
 "metadata": {
  "name": "",
  "signature": "sha256:0e534d5be7cdc4c24b2b5cf3986e8e21ebaef21c0a7cc986f2ef09a5afd9f8d2"
 },
 "nbformat": 3,
 "nbformat_minor": 0,
 "worksheets": [
  {
   "cells": [
    {
     "cell_type": "markdown",
     "metadata": {},
     "source": [
      "# Work Summary\n",
      "\n",
      "Get This is the summary of how to download and analyze data by the Nature Open Search API"
     ]
    },
    {
     "cell_type": "markdown",
     "metadata": {},
     "source": [
      "## One class to download json from Nature\n",
      "\n",
      "The following class downloads takes in the journal name and year as argument and uses the [Nature API](http://www.nature.com/developers/documentation/api-references/opensearch-api/) to download all the articles of that year and journal. The result is then stored in a json object array file, named by the journal name and year, i.e. nnano-2011.json."
     ]
    },
    {
     "cell_type": "code",
     "collapsed": false,
     "input": [
      "import json\n",
      "import urllib2, urllib\n",
      "import time\n",
      "\n",
      "class NatureAgent:\n",
      "    'Common base class for all journal downloads'\n",
      "    \n",
      "    def __init__(self, name):\n",
      "        self.name = name\n",
      "    \n",
      "    def download(self, productCode, year, fileName):\n",
      "        content = None # to store the response of the query\n",
      "        jsonObjArray = [] # to store all the entries extracted from the response\n",
      "        \n",
      "        print \"Start Download\" + ' ' + productCode + ' ' + year + ' into file: ' + fileName\n",
      "        myfile = open(fileName, 'w+')\n",
      "\n",
      "        # loop months\n",
      "        for month in range(1,13):\n",
      "            if month < 10:\n",
      "                thisMonth =  '0' + str(month)\n",
      "            else:\n",
      "                thisMonth = str(month)\n",
      "\n",
      "            # loop days\n",
      "            for day in range(1,32):\n",
      "\n",
      "                # make all day number two digits\n",
      "                if day<10:\n",
      "                    thisDay = '0' + str(day)\n",
      "                else:\n",
      "                    thisDay = str(day)\n",
      "\n",
      "                # construct the targetDate string\n",
      "                targetDate = str(year) + '-' + thisMonth + '-' + thisDay\n",
      "                print targetDate,\n",
      "\n",
      "                # construct the queryWord to be sent\n",
      "                queryWord = 'prism.productCode=' + productCode + '+AND+prism.publicationDate=' + targetDate\n",
      "                url = 'http://api.nature.com/content/opensearch/request?&recordPacking=unpacked&queryType=cql&maximumRecords=100&httpAccept=application/json&query=' + queryWord\n",
      "\n",
      "                # start the query by calling urllib2\n",
      "                try:\n",
      "                    content = urllib2.urlopen(url).read()\n",
      "                    data = json.loads(content)\n",
      "                except:\n",
      "                    print \"URL error\"\n",
      "                    continue\n",
      "\n",
      "                # if the response is not empty, then extract the entries\n",
      "                if data['feed']['opensearch:totalResults'] != 0:\n",
      "                    for entry in data['feed'][\"entry\"]:\n",
      "                        jsonObjArray.append(entry)\n",
      "                    print \"Result found\"\n",
      "                else:\n",
      "                    print \"No result found!\"\n",
      "\n",
      "                # put a delay so that we don't overload the nature servers\n",
      "                time.sleep(1)\n",
      "\n",
      "        # store the entries to the output file\n",
      "        json.dump(jsonObjArray, myfile, indent=4)\n",
      "        myfile.close()"
     ],
     "language": "python",
     "metadata": {},
     "outputs": [
      {
       "output_type": "stream",
       "stream": "stdout",
       "text": [
        "Start Download nrurol 2012 into file: nrurol-2012.json\n",
        "2012-01-01 "
       ]
      },
      {
       "output_type": "stream",
       "stream": "stdout",
       "text": [
        "No result found!\n",
        "2012-01-02"
       ]
      },
      {
       "output_type": "stream",
       "stream": "stdout",
       "text": [
        " No result found!\n",
        "2012-01-03"
       ]
      },
      {
       "output_type": "stream",
       "stream": "stdout",
       "text": [
        " No result found!\n",
        "2012-01-04"
       ]
      },
      {
       "output_type": "stream",
       "stream": "stdout",
       "text": [
        " No result found!\n",
        "2012-01-05"
       ]
      },
      {
       "output_type": "stream",
       "stream": "stdout",
       "text": [
        " No result found!\n",
        "2012-01-06"
       ]
      },
      {
       "output_type": "stream",
       "stream": "stdout",
       "text": [
        " No result found!\n",
        "2012-01-07"
       ]
      },
      {
       "output_type": "stream",
       "stream": "stdout",
       "text": [
        " No result found!\n",
        "2012-01-08"
       ]
      },
      {
       "output_type": "stream",
       "stream": "stdout",
       "text": [
        " No result found!\n",
        "2012-01-09"
       ]
      },
      {
       "output_type": "stream",
       "stream": "stdout",
       "text": [
        " No result found!\n",
        "2012-01-10"
       ]
      },
      {
       "output_type": "stream",
       "stream": "stdout",
       "text": [
        " Result found\n",
        "2012-01-11"
       ]
      },
      {
       "output_type": "stream",
       "stream": "stdout",
       "text": [
        " No result found!\n",
        "2012-01-12"
       ]
      },
      {
       "output_type": "stream",
       "stream": "stdout",
       "text": [
        " No result found!\n",
        "2012-01-13"
       ]
      },
      {
       "output_type": "stream",
       "stream": "stdout",
       "text": [
        " No result found!\n",
        "2012-01-14"
       ]
      },
      {
       "output_type": "stream",
       "stream": "stdout",
       "text": [
        " No result found!\n",
        "2012-01-15"
       ]
      },
      {
       "output_type": "stream",
       "stream": "stdout",
       "text": [
        " No result found!\n",
        "2012-01-16"
       ]
      },
      {
       "output_type": "stream",
       "stream": "stdout",
       "text": [
        " No result found!\n",
        "2012-01-17"
       ]
      },
      {
       "output_type": "stream",
       "stream": "stdout",
       "text": [
        " Result found\n",
        "2012-01-18"
       ]
      },
      {
       "output_type": "stream",
       "stream": "stdout",
       "text": [
        " No result found!\n",
        "2012-01-19"
       ]
      },
      {
       "output_type": "stream",
       "stream": "stdout",
       "text": [
        " No result found!\n",
        "2012-01-20"
       ]
      },
      {
       "output_type": "stream",
       "stream": "stdout",
       "text": [
        " No result found!\n",
        "2012-01-21"
       ]
      },
      {
       "output_type": "stream",
       "stream": "stdout",
       "text": [
        " No result found!\n",
        "2012-01-22"
       ]
      },
      {
       "output_type": "stream",
       "stream": "stdout",
       "text": [
        " No result found!\n",
        "2012-01-23"
       ]
      },
      {
       "output_type": "stream",
       "stream": "stdout",
       "text": [
        " No result found!\n",
        "2012-01-24"
       ]
      },
      {
       "output_type": "stream",
       "stream": "stdout",
       "text": [
        " Result found\n",
        "2012-01-25"
       ]
      },
      {
       "output_type": "stream",
       "stream": "stdout",
       "text": [
        " No result found!\n",
        "2012-01-26"
       ]
      },
      {
       "output_type": "stream",
       "stream": "stdout",
       "text": [
        " No result found!\n",
        "2012-01-27"
       ]
      },
      {
       "output_type": "stream",
       "stream": "stdout",
       "text": [
        " No result found!\n",
        "2012-01-28"
       ]
      },
      {
       "output_type": "stream",
       "stream": "stdout",
       "text": [
        " No result found!\n",
        "2012-01-29"
       ]
      },
      {
       "output_type": "stream",
       "stream": "stdout",
       "text": [
        " No result found!\n",
        "2012-01-30"
       ]
      },
      {
       "output_type": "stream",
       "stream": "stdout",
       "text": [
        " No result found!\n",
        "2012-01-31"
       ]
      },
      {
       "output_type": "stream",
       "stream": "stdout",
       "text": [
        " Result found\n",
        "2012-02-01"
       ]
      },
      {
       "output_type": "stream",
       "stream": "stdout",
       "text": [
        " No result found!\n",
        "2012-02-02"
       ]
      },
      {
       "output_type": "stream",
       "stream": "stdout",
       "text": [
        " No result found!\n",
        "2012-02-03"
       ]
      },
      {
       "output_type": "stream",
       "stream": "stdout",
       "text": [
        " No result found!\n",
        "2012-02-04"
       ]
      },
      {
       "output_type": "stream",
       "stream": "stdout",
       "text": [
        " No result found!\n",
        "2012-02-05"
       ]
      },
      {
       "output_type": "stream",
       "stream": "stdout",
       "text": [
        " No result found!\n",
        "2012-02-06"
       ]
      },
      {
       "output_type": "stream",
       "stream": "stdout",
       "text": [
        " No result found!\n",
        "2012-02-07"
       ]
      },
      {
       "output_type": "stream",
       "stream": "stdout",
       "text": [
        " Result found\n",
        "2012-02-08"
       ]
      },
      {
       "output_type": "stream",
       "stream": "stdout",
       "text": [
        " No result found!\n",
        "2012-02-09"
       ]
      },
      {
       "output_type": "stream",
       "stream": "stdout",
       "text": [
        " Result found\n",
        "2012-02-10"
       ]
      },
      {
       "output_type": "stream",
       "stream": "stdout",
       "text": [
        " No result found!\n",
        "2012-02-11"
       ]
      },
      {
       "output_type": "stream",
       "stream": "stdout",
       "text": [
        " No result found!\n",
        "2012-02-12"
       ]
      },
      {
       "output_type": "stream",
       "stream": "stdout",
       "text": [
        " No result found!\n",
        "2012-02-13"
       ]
      },
      {
       "output_type": "stream",
       "stream": "stdout",
       "text": [
        " No result found!\n",
        "2012-02-14"
       ]
      },
      {
       "output_type": "stream",
       "stream": "stdout",
       "text": [
        " Result found\n",
        "2012-02-15"
       ]
      },
      {
       "output_type": "stream",
       "stream": "stdout",
       "text": [
        " No result found!\n",
        "2012-02-16"
       ]
      },
      {
       "output_type": "stream",
       "stream": "stdout",
       "text": [
        " No result found!\n",
        "2012-02-17"
       ]
      },
      {
       "output_type": "stream",
       "stream": "stdout",
       "text": [
        " No result found!\n",
        "2012-02-18"
       ]
      },
      {
       "output_type": "stream",
       "stream": "stdout",
       "text": [
        " No result found!\n",
        "2012-02-19"
       ]
      },
      {
       "output_type": "stream",
       "stream": "stdout",
       "text": [
        " No result found!\n",
        "2012-02-20"
       ]
      },
      {
       "output_type": "stream",
       "stream": "stdout",
       "text": [
        " No result found!\n",
        "2012-02-21"
       ]
      },
      {
       "output_type": "stream",
       "stream": "stdout",
       "text": [
        " Result found\n",
        "2012-02-22"
       ]
      },
      {
       "output_type": "stream",
       "stream": "stdout",
       "text": [
        " No result found!\n",
        "2012-02-23"
       ]
      },
      {
       "output_type": "stream",
       "stream": "stdout",
       "text": [
        " No result found!\n",
        "2012-02-24"
       ]
      },
      {
       "output_type": "stream",
       "stream": "stdout",
       "text": [
        " No result found!\n",
        "2012-02-25"
       ]
      },
      {
       "output_type": "stream",
       "stream": "stdout",
       "text": [
        " No result found!\n",
        "2012-02-26"
       ]
      },
      {
       "output_type": "stream",
       "stream": "stdout",
       "text": [
        " No result found!\n",
        "2012-02-27"
       ]
      },
      {
       "output_type": "stream",
       "stream": "stdout",
       "text": [
        " No result found!\n",
        "2012-02-28"
       ]
      },
      {
       "output_type": "stream",
       "stream": "stdout",
       "text": [
        " Result found\n",
        "2012-02-29"
       ]
      },
      {
       "output_type": "stream",
       "stream": "stdout",
       "text": [
        " No result found!\n",
        "2012-02-30"
       ]
      },
      {
       "output_type": "stream",
       "stream": "stdout",
       "text": [
        " No result found!\n",
        "2012-02-31"
       ]
      },
      {
       "output_type": "stream",
       "stream": "stdout",
       "text": [
        " No result found!\n",
        "2012-03-01"
       ]
      },
      {
       "output_type": "stream",
       "stream": "stdout",
       "text": [
        " No result found!\n",
        "2012-03-02"
       ]
      },
      {
       "output_type": "stream",
       "stream": "stdout",
       "text": [
        " No result found!\n",
        "2012-03-03"
       ]
      },
      {
       "output_type": "stream",
       "stream": "stdout",
       "text": [
        " No result found!\n"
       ]
      },
      {
       "ename": "KeyboardInterrupt",
       "evalue": "",
       "output_type": "pyerr",
       "traceback": [
        "\u001b[0;31m---------------------------------------------------------------------------\u001b[0m\n\u001b[0;31mKeyboardInterrupt\u001b[0m                         Traceback (most recent call last)",
        "\u001b[0;32m<ipython-input-27-ac67400e21a2>\u001b[0m in \u001b[0;36m<module>\u001b[0;34m()\u001b[0m\n\u001b[1;32m     64\u001b[0m \u001b[0;34m\u001b[0m\u001b[0m\n\u001b[1;32m     65\u001b[0m \u001b[0magent\u001b[0m \u001b[0;34m=\u001b[0m \u001b[0mNatureAgent\u001b[0m\u001b[0;34m(\u001b[0m\u001b[0;34m'nature'\u001b[0m\u001b[0;34m)\u001b[0m\u001b[0;34m\u001b[0m\u001b[0m\n\u001b[0;32m---> 66\u001b[0;31m \u001b[0magent\u001b[0m\u001b[0;34m.\u001b[0m\u001b[0mdownload\u001b[0m\u001b[0;34m(\u001b[0m\u001b[0;34m'nrurol'\u001b[0m\u001b[0;34m,\u001b[0m \u001b[0;34m'2012'\u001b[0m\u001b[0;34m,\u001b[0m \u001b[0;34m'nrurol-2012.json'\u001b[0m\u001b[0;34m)\u001b[0m\u001b[0;34m\u001b[0m\u001b[0m\n\u001b[0m",
        "\u001b[0;32m<ipython-input-27-ac67400e21a2>\u001b[0m in \u001b[0;36mdownload\u001b[0;34m(self, productCode, year, fileName)\u001b[0m\n\u001b[1;32m     57\u001b[0m \u001b[0;34m\u001b[0m\u001b[0m\n\u001b[1;32m     58\u001b[0m                 \u001b[0;31m# put a delay so that we don't overload the nature servers\u001b[0m\u001b[0;34m\u001b[0m\u001b[0;34m\u001b[0m\u001b[0m\n\u001b[0;32m---> 59\u001b[0;31m                 \u001b[0mtime\u001b[0m\u001b[0;34m.\u001b[0m\u001b[0msleep\u001b[0m\u001b[0;34m(\u001b[0m\u001b[0;36m1\u001b[0m\u001b[0;34m)\u001b[0m\u001b[0;34m\u001b[0m\u001b[0m\n\u001b[0m\u001b[1;32m     60\u001b[0m \u001b[0;34m\u001b[0m\u001b[0m\n\u001b[1;32m     61\u001b[0m         \u001b[0;31m# store the entries to the output file\u001b[0m\u001b[0;34m\u001b[0m\u001b[0;34m\u001b[0m\u001b[0m\n",
        "\u001b[0;31mKeyboardInterrupt\u001b[0m: "
       ]
      }
     ],
     "prompt_number": 27
    },
    {
     "cell_type": "markdown",
     "metadata": {},
     "source": [
      "## Go through all the nature products\n",
      "\n",
      "The following code go through all the nature product codes stored in natureProductCodes.py and download them all into the disk."
     ]
    },
    {
     "cell_type": "code",
     "collapsed": false,
     "input": [
      "import natureProductCodes\n",
      "\n",
      "for key, value in natureProductCodes.natureProductCodes:\n",
      "    for year in range(2006,2015):\n",
      "        print key +  value + year\n",
      "#         agent = NatureAgent('nature')\n",
      "#         agent.download('nrurol', '2012', 'nrurol-2012.json')"
     ],
     "language": "python",
     "metadata": {},
     "outputs": [
      {
       "ename": "NameError",
       "evalue": "name 'natureProductList' is not defined",
       "output_type": "pyerr",
       "traceback": [
        "\u001b[0;31m---------------------------------------------------------------------------\u001b[0m\n\u001b[0;31mNameError\u001b[0m                                 Traceback (most recent call last)",
        "\u001b[0;32m<ipython-input-29-3fd5ae2f682e>\u001b[0m in \u001b[0;36m<module>\u001b[0;34m()\u001b[0m\n\u001b[1;32m      1\u001b[0m \u001b[0;32mimport\u001b[0m \u001b[0mnatureProductCodes\u001b[0m\u001b[0;34m\u001b[0m\u001b[0m\n\u001b[1;32m      2\u001b[0m \u001b[0;34m\u001b[0m\u001b[0m\n\u001b[0;32m----> 3\u001b[0;31m \u001b[0;32mfor\u001b[0m \u001b[0mkey\u001b[0m\u001b[0;34m,\u001b[0m \u001b[0mvalue\u001b[0m \u001b[0;32min\u001b[0m \u001b[0mnatureProductList\u001b[0m\u001b[0;34m:\u001b[0m\u001b[0;34m\u001b[0m\u001b[0m\n\u001b[0m\u001b[1;32m      4\u001b[0m     \u001b[0;32mfor\u001b[0m \u001b[0myear\u001b[0m \u001b[0;32min\u001b[0m \u001b[0mrange\u001b[0m\u001b[0;34m(\u001b[0m\u001b[0;36m2006\u001b[0m\u001b[0;34m,\u001b[0m\u001b[0;36m2015\u001b[0m\u001b[0;34m)\u001b[0m\u001b[0;34m:\u001b[0m\u001b[0;34m\u001b[0m\u001b[0m\n\u001b[1;32m      5\u001b[0m         \u001b[0;32mprint\u001b[0m \u001b[0mkey\u001b[0m \u001b[0;34m+\u001b[0m  \u001b[0mvalue\u001b[0m \u001b[0;34m+\u001b[0m \u001b[0myear\u001b[0m\u001b[0;34m\u001b[0m\u001b[0m\n",
        "\u001b[0;31mNameError\u001b[0m: name 'natureProductList' is not defined"
       ]
      }
     ],
     "prompt_number": 29
    },
    {
     "cell_type": "code",
     "collapsed": false,
     "input": [],
     "language": "python",
     "metadata": {},
     "outputs": [],
     "prompt_number": 9
    },
    {
     "cell_type": "code",
     "collapsed": false,
     "input": [],
     "language": "python",
     "metadata": {},
     "outputs": []
    }
   ],
   "metadata": {}
  }
 ]
}