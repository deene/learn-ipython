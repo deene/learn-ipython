{
 "metadata": {
  "name": "",
  "signature": "sha256:b352836dcb3ac1240cdc8192e1e5f802c6ce382362be385a13b2ea036c8b0519"
 },
 "nbformat": 3,
 "nbformat_minor": 0,
 "worksheets": [
  {
   "cells": [
    {
     "cell_type": "code",
     "collapsed": false,
     "input": [
      "import threading\n",
      "from random import randint\n",
      "from time import sleep\n",
      "\n",
      "def readLine(filename):\n",
      "   with open(filename,'r') as f:\n",
      "       return f.readline()\n",
      "\n",
      "thread_list = ['nnano-2006', 'nnano-2007']\n",
      "\n",
      "for i in thread_list:\n",
      "   t = threading.Thread(target=readLine, args=(i,))\n",
      "   # Sticks the thread in a list so that it remains accessible \n",
      "   thread_list.append(t)\n",
      "\n",
      "# Starts threads\n",
      "for thread in thread_list:\n",
      "   thread.start()\n",
      "\n",
      "# This blocks the calling thread until the thread whose join() method is called is terminated.\n",
      "# From http://docs.python.org/2/library/threading.html#thread-objects\n",
      "for thread in thread_list:\n",
      "   thread.join()\n",
      "\n",
      "# Demonstrates that the main process waited for threads to complete\n",
      "print \"Done\""
     ],
     "language": "python",
     "metadata": {},
     "outputs": []
    },
    {
     "cell_type": "code",
     "collapsed": false,
     "input": [],
     "language": "python",
     "metadata": {},
     "outputs": []
    }
   ],
   "metadata": {}
  }
 ]
}