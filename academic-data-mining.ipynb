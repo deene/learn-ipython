{
 "metadata": {
  "name": "",
  "signature": "sha256:e94b5c2943200db980cd7d8204c75b078190bdfec4d6731f8a4d34ae922f4770"
 },
 "nbformat": 3,
 "nbformat_minor": 0,
 "worksheets": [
  {
   "cells": [
    {
     "cell_type": "markdown",
     "metadata": {},
     "source": [
      "# This notebook is dedicated to the study of data mining"
     ]
    },
    {
     "cell_type": "markdown",
     "metadata": {},
     "source": [
      "## How to download from Nature\n",
      "\n",
      "The below code downloads data from nature and save into json."
     ]
    },
    {
     "cell_type": "markdown",
     "metadata": {},
     "source": [
      "## How to parse XML in Python?\n",
      "\n",
      "[This stackoverflow post](http://stackoverflow.com/questions/1912434/how-do-i-parse-xml-in-python) explains how to use Python to parse XML.\n",
      "\n",
      "minidom is the quickest and pretty straight forward:\n",
      "\n",
      "```XML\n",
      "<data>\n",
      "    <items>\n",
      "        <item name=\"item1\"></item>\n",
      "        <item name=\"item2\"></item>\n",
      "        <item name=\"item3\"></item>\n",
      "        <item name=\"item4\"></item>\n",
      "    </items>\n",
      "</data>\n",
      "```\n",
      "\n",
      "```Python\n",
      "from xml.dom import minidom\n",
      "xmldoc = minidom.parse('items.xml')\n",
      "itemlist = xmldoc.getElementsByTagName('item') \n",
      "print len(itemlist)\n",
      "print itemlist[0].attributes['name'].value\n",
      "for s in itemlist :\n",
      "    print s.attributes['name'].value\n",
      "```\n",
      "\n",
      "```Output\n",
      "4\n",
      "item1\n",
      "item1\n",
      "item2\n",
      "item3\n",
      "item4\n",
      "```\n",
      "\n",
      "And I can use the ```s.childNodes[0].nodeValue``` to get the inner value.\n",
      "\n",
      "Below is the test code working on the nature-2010.xml that I downloaded from Nature. I can use the [intentXML](https://github.com/alek-sys/sublimetext_indentxml) sublime plugin to make the XML file look nicer."
     ]
    },
    {
     "cell_type": "markdown",
     "metadata": {},
     "source": [
      "But this code does not work as the xml file downloaded from nature is kind of [junky](http://stackoverflow.com/questions/26008046/xml-parsing-error-junk-after-document-element-in-twilio).\n",
      "\n",
      "So instead, I try the json approach. (use the [prettyJSON](https://github.com/dzhibas/SublimePrettyJson) sublime plugin to make the json file look nicer."
     ]
    },
    {
     "cell_type": "markdown",
     "metadata": {},
     "source": [
      "## Code to crawl Nature publications.\n",
      "\n",
      "The following code uses the Nature API to search for papers published in Nature."
     ]
    },
    {
     "cell_type": "code",
     "collapsed": false,
     "input": [
      "import json\n",
      "import xml.etree.ElementTree as ET\n",
      "import urllib2, urllib\n",
      "import codecs\n",
      "import time\n",
      "\n",
      "content = None\n",
      "# build up a product code array, can be found at the A-Z page links on nature.com\n",
      "# build up a year=month=day array\n",
      "\n",
      "# Crawl nature\n",
      "print \"\\n\\nstart -----\"\n",
      "for year in range(2013, 2014):\n",
      "    fileName = 'nnano-' + str(year) + '.json'\n",
      "    myfile = open(fileName, 'w+')\n",
      "    myfile.write('[')\n",
      "    yearWord = str(year)\n",
      "\n",
      "    for month in range(1,13):\n",
      "        if month < 10:\n",
      "            monthWord =  '0' + str(month)\n",
      "        else:\n",
      "            monthWord = str(month)\n",
      "\n",
      "        for day in range(1,32):\n",
      "            if day<10:\n",
      "                dayWord = '0' + str(day)\n",
      "            else:\n",
      "                dayWord = str(day)\n",
      "\n",
      "            targetDate = yearWord + '-' + monthWord + '-' + dayWord\n",
      "            print targetDate,\n",
      "        \n",
      "            queryWord = 'prism.productCode=nnano+AND+prism.publicationDate=' + targetDate\n",
      "            url = 'http://api.nature.com/content/opensearch/request?&recordPacking=unpacked&queryType=cql&maximumRecords=100&httpAccept=application/json&query=' + queryWord\n",
      "\n",
      "            try:\n",
      "                content = urllib2.urlopen(url).read()\n",
      "                data = json.loads(content)\n",
      "            except:\n",
      "                print \"URL error\"\n",
      "                continue\n",
      "                    \n",
      "            if data['feed']['opensearch:totalResults'] != 0:\n",
      "                for entry in data['feed'][\"entry\"]:\n",
      "                    #print entry[\"prism:publicationName\"] + ',' + entry[\"prism:publicationDate\"] + ',' + entry[\"dc:title\"] \\\n",
      "                    #      + ':' + entry[\"dc:description\"]\n",
      "                    json.dump(entry, myfile, indent=4)\n",
      "                    myfile.write(',')\n",
      "                #myfile.write(simplejson.dumps(simplejson.loads(output), indent=4, sort_keys=True))\n",
      "            else:\n",
      "                print \"No result found!\"\n",
      "            \n",
      "            time.sleep(1)\n",
      "    \n",
      "    myfile.write(']')\n",
      "    myfile.close()"
     ],
     "language": "python",
     "metadata": {},
     "outputs": [
      {
       "output_type": "stream",
       "stream": "stdout",
       "text": [
        "\n",
        "\n",
        "start -----\n",
        "2013-01-01 "
       ]
      },
      {
       "output_type": "stream",
       "stream": "stdout",
       "text": [
        "No result found!\n",
        "2013-01-02"
       ]
      },
      {
       "output_type": "stream",
       "stream": "stdout",
       "text": [
        " No result found!\n",
        "2013-01-03"
       ]
      },
      {
       "output_type": "stream",
       "stream": "stdout",
       "text": [
        " No result found!\n",
        "2013-01-04"
       ]
      },
      {
       "output_type": "stream",
       "stream": "stdout",
       "text": [
        " No result found!\n",
        "2013-01-05"
       ]
      },
      {
       "output_type": "stream",
       "stream": "stdout",
       "text": [
        " No result found!\n",
        "2013-01-06"
       ]
      },
      {
       "output_type": "stream",
       "stream": "stdout",
       "text": [
        " 2013-01-07 "
       ]
      },
      {
       "output_type": "stream",
       "stream": "stdout",
       "text": [
        "No result found!\n",
        "2013-01-08"
       ]
      },
      {
       "output_type": "stream",
       "stream": "stdout",
       "text": [
        " No result found!\n",
        "2013-01-09"
       ]
      },
      {
       "output_type": "stream",
       "stream": "stdout",
       "text": [
        " No result found!\n",
        "2013-01-10"
       ]
      },
      {
       "output_type": "stream",
       "stream": "stdout",
       "text": [
        " No result found!\n",
        "2013-01-11"
       ]
      },
      {
       "output_type": "stream",
       "stream": "stdout",
       "text": [
        " No result found!\n",
        "2013-01-12"
       ]
      },
      {
       "output_type": "stream",
       "stream": "stdout",
       "text": [
        " No result found!\n",
        "2013-01-13"
       ]
      },
      {
       "output_type": "stream",
       "stream": "stdout",
       "text": [
        " No result found!\n",
        "2013-01-14"
       ]
      },
      {
       "output_type": "stream",
       "stream": "stdout",
       "text": [
        " No result found!\n",
        "2013-01-15"
       ]
      },
      {
       "output_type": "stream",
       "stream": "stdout",
       "text": [
        " No result found!\n",
        "2013-01-16"
       ]
      },
      {
       "output_type": "stream",
       "stream": "stdout",
       "text": [
        " No result found!\n",
        "2013-01-17"
       ]
      },
      {
       "output_type": "stream",
       "stream": "stdout",
       "text": [
        " No result found!\n",
        "2013-01-18"
       ]
      },
      {
       "output_type": "stream",
       "stream": "stdout",
       "text": [
        " No result found!\n",
        "2013-01-19"
       ]
      },
      {
       "output_type": "stream",
       "stream": "stdout",
       "text": [
        " No result found!\n",
        "2013-01-20"
       ]
      },
      {
       "output_type": "stream",
       "stream": "stdout",
       "text": [
        " 2013-01-21 "
       ]
      },
      {
       "output_type": "stream",
       "stream": "stdout",
       "text": [
        "No result found!\n",
        "2013-01-22"
       ]
      },
      {
       "output_type": "stream",
       "stream": "stdout",
       "text": [
        " No result found!\n",
        "2013-01-23"
       ]
      },
      {
       "output_type": "stream",
       "stream": "stdout",
       "text": [
        " No result found!\n",
        "2013-01-24"
       ]
      },
      {
       "output_type": "stream",
       "stream": "stdout",
       "text": [
        " No result found!\n",
        "2013-01-25"
       ]
      },
      {
       "output_type": "stream",
       "stream": "stdout",
       "text": [
        " No result found!\n",
        "2013-01-26"
       ]
      },
      {
       "output_type": "stream",
       "stream": "stdout",
       "text": [
        " No result found!\n",
        "2013-01-27"
       ]
      },
      {
       "output_type": "stream",
       "stream": "stdout",
       "text": [
        " 2013-01-28 "
       ]
      },
      {
       "output_type": "stream",
       "stream": "stdout",
       "text": [
        "No result found!\n",
        "2013-01-29"
       ]
      },
      {
       "output_type": "stream",
       "stream": "stdout",
       "text": [
        " No result found!\n",
        "2013-01-30"
       ]
      },
      {
       "output_type": "stream",
       "stream": "stdout",
       "text": [
        " No result found!\n",
        "2013-01-31"
       ]
      },
      {
       "output_type": "stream",
       "stream": "stdout",
       "text": [
        " No result found!\n",
        "2013-02-01"
       ]
      },
      {
       "output_type": "stream",
       "stream": "stdout",
       "text": [
        " No result found!\n",
        "2013-02-02"
       ]
      },
      {
       "output_type": "stream",
       "stream": "stdout",
       "text": [
        " No result found!\n",
        "2013-02-03"
       ]
      },
      {
       "output_type": "stream",
       "stream": "stdout",
       "text": [
        " 2013-02-04 "
       ]
      },
      {
       "output_type": "stream",
       "stream": "stdout",
       "text": [
        "No result found!\n",
        "2013-02-05"
       ]
      },
      {
       "output_type": "stream",
       "stream": "stdout",
       "text": [
        " 2013-02-06 "
       ]
      },
      {
       "output_type": "stream",
       "stream": "stdout",
       "text": [
        "No result found!\n",
        "2013-02-07"
       ]
      },
      {
       "output_type": "stream",
       "stream": "stdout",
       "text": [
        " No result found!\n",
        "2013-02-08"
       ]
      },
      {
       "output_type": "stream",
       "stream": "stdout",
       "text": [
        " No result found!\n",
        "2013-02-09"
       ]
      },
      {
       "output_type": "stream",
       "stream": "stdout",
       "text": [
        " No result found!\n",
        "2013-02-10"
       ]
      },
      {
       "output_type": "stream",
       "stream": "stdout",
       "text": [
        " 2013-02-11 "
       ]
      },
      {
       "output_type": "stream",
       "stream": "stdout",
       "text": [
        "No result found!\n",
        "2013-02-12"
       ]
      },
      {
       "output_type": "stream",
       "stream": "stdout",
       "text": [
        " No result found!\n",
        "2013-02-13"
       ]
      },
      {
       "output_type": "stream",
       "stream": "stdout",
       "text": [
        " 2013-02-14 "
       ]
      },
      {
       "output_type": "stream",
       "stream": "stdout",
       "text": [
        "No result found!\n",
        "2013-02-15"
       ]
      },
      {
       "output_type": "stream",
       "stream": "stdout",
       "text": [
        " No result found!\n",
        "2013-02-16"
       ]
      },
      {
       "output_type": "stream",
       "stream": "stdout",
       "text": [
        " No result found!\n",
        "2013-02-17"
       ]
      },
      {
       "output_type": "stream",
       "stream": "stdout",
       "text": [
        " 2013-02-18 "
       ]
      },
      {
       "output_type": "stream",
       "stream": "stdout",
       "text": [
        "No result found!\n",
        "2013-02-19"
       ]
      },
      {
       "output_type": "stream",
       "stream": "stdout",
       "text": [
        " No result found!\n",
        "2013-02-20"
       ]
      },
      {
       "output_type": "stream",
       "stream": "stdout",
       "text": [
        " No result found!\n",
        "2013-02-21"
       ]
      },
      {
       "output_type": "stream",
       "stream": "stdout",
       "text": [
        " No result found!\n",
        "2013-02-22"
       ]
      },
      {
       "output_type": "stream",
       "stream": "stdout",
       "text": [
        " No result found!\n",
        "2013-02-23"
       ]
      },
      {
       "output_type": "stream",
       "stream": "stdout",
       "text": [
        " No result found!\n",
        "2013-02-24"
       ]
      },
      {
       "output_type": "stream",
       "stream": "stdout",
       "text": [
        " 2013-02-25 "
       ]
      },
      {
       "output_type": "stream",
       "stream": "stdout",
       "text": [
        "No result found!\n",
        "2013-02-26"
       ]
      },
      {
       "output_type": "stream",
       "stream": "stdout",
       "text": [
        " No result found!\n",
        "2013-02-27"
       ]
      },
      {
       "output_type": "stream",
       "stream": "stdout",
       "text": [
        " No result found!\n",
        "2013-02-28"
       ]
      },
      {
       "output_type": "stream",
       "stream": "stdout",
       "text": [
        " No result found!\n",
        "2013-02-29"
       ]
      },
      {
       "output_type": "stream",
       "stream": "stdout",
       "text": [
        " No result found!\n",
        "2013-02-30"
       ]
      },
      {
       "output_type": "stream",
       "stream": "stdout",
       "text": [
        " No result found!\n",
        "2013-02-31"
       ]
      },
      {
       "output_type": "stream",
       "stream": "stdout",
       "text": [
        " No result found!\n",
        "2013-03-01"
       ]
      },
      {
       "output_type": "stream",
       "stream": "stdout",
       "text": [
        " No result found!\n",
        "2013-03-02"
       ]
      },
      {
       "output_type": "stream",
       "stream": "stdout",
       "text": [
        " No result found!\n",
        "2013-03-03"
       ]
      },
      {
       "output_type": "stream",
       "stream": "stdout",
       "text": [
        " 2013-03-04 "
       ]
      },
      {
       "output_type": "stream",
       "stream": "stdout",
       "text": [
        "No result found!\n",
        "2013-03-05"
       ]
      },
      {
       "output_type": "stream",
       "stream": "stdout",
       "text": [
        " 2013-03-06 "
       ]
      },
      {
       "output_type": "stream",
       "stream": "stdout",
       "text": [
        "No result found!\n",
        "2013-03-07"
       ]
      },
      {
       "output_type": "stream",
       "stream": "stdout",
       "text": [
        " No result found!\n",
        "2013-03-08"
       ]
      },
      {
       "output_type": "stream",
       "stream": "stdout",
       "text": [
        " No result found!\n",
        "2013-03-09"
       ]
      },
      {
       "output_type": "stream",
       "stream": "stdout",
       "text": [
        " No result found!\n",
        "2013-03-10"
       ]
      },
      {
       "output_type": "stream",
       "stream": "stdout",
       "text": [
        " 2013-03-11 "
       ]
      },
      {
       "output_type": "stream",
       "stream": "stdout",
       "text": [
        "No result found!\n",
        "2013-03-12"
       ]
      },
      {
       "output_type": "stream",
       "stream": "stdout",
       "text": [
        " No result found!\n",
        "2013-03-13"
       ]
      },
      {
       "output_type": "stream",
       "stream": "stdout",
       "text": [
        " No result found!\n",
        "2013-03-14"
       ]
      },
      {
       "output_type": "stream",
       "stream": "stdout",
       "text": [
        " No result found!\n",
        "2013-03-15"
       ]
      },
      {
       "output_type": "stream",
       "stream": "stdout",
       "text": [
        " No result found!\n",
        "2013-03-16"
       ]
      },
      {
       "output_type": "stream",
       "stream": "stdout",
       "text": [
        " No result found!\n",
        "2013-03-17"
       ]
      },
      {
       "output_type": "stream",
       "stream": "stdout",
       "text": [
        " 2013-03-18 "
       ]
      },
      {
       "output_type": "stream",
       "stream": "stdout",
       "text": [
        "No result found!\n",
        "2013-03-19"
       ]
      },
      {
       "output_type": "stream",
       "stream": "stdout",
       "text": [
        " No result found!\n",
        "2013-03-20"
       ]
      },
      {
       "output_type": "stream",
       "stream": "stdout",
       "text": [
        " No result found!\n",
        "2013-03-21"
       ]
      },
      {
       "output_type": "stream",
       "stream": "stdout",
       "text": [
        " No result found!\n",
        "2013-03-22"
       ]
      },
      {
       "output_type": "stream",
       "stream": "stdout",
       "text": [
        " No result found!\n",
        "2013-03-23"
       ]
      },
      {
       "output_type": "stream",
       "stream": "stdout",
       "text": [
        " No result found!\n",
        "2013-03-24"
       ]
      },
      {
       "output_type": "stream",
       "stream": "stdout",
       "text": [
        " 2013-03-25 "
       ]
      },
      {
       "output_type": "stream",
       "stream": "stdout",
       "text": [
        "No result found!\n",
        "2013-03-26"
       ]
      },
      {
       "output_type": "stream",
       "stream": "stdout",
       "text": [
        " No result found!\n",
        "2013-03-27"
       ]
      },
      {
       "output_type": "stream",
       "stream": "stdout",
       "text": [
        " No result found!\n",
        "2013-03-28"
       ]
      },
      {
       "output_type": "stream",
       "stream": "stdout",
       "text": [
        " No result found!\n",
        "2013-03-29"
       ]
      },
      {
       "output_type": "stream",
       "stream": "stdout",
       "text": [
        " No result found!\n",
        "2013-03-30"
       ]
      },
      {
       "output_type": "stream",
       "stream": "stdout",
       "text": [
        " No result found!\n",
        "2013-03-31"
       ]
      },
      {
       "output_type": "stream",
       "stream": "stdout",
       "text": [
        " 2013-04-01 "
       ]
      },
      {
       "output_type": "stream",
       "stream": "stdout",
       "text": [
        "No result found!\n",
        "2013-04-02"
       ]
      },
      {
       "output_type": "stream",
       "stream": "stdout",
       "text": [
        " No result found!\n",
        "2013-04-03"
       ]
      },
      {
       "output_type": "stream",
       "stream": "stdout",
       "text": [
        " No result found!\n",
        "2013-04-04"
       ]
      },
      {
       "output_type": "stream",
       "stream": "stdout",
       "text": [
        " 2013-04-05 "
       ]
      },
      {
       "output_type": "stream",
       "stream": "stdout",
       "text": [
        "No result found!\n",
        "2013-04-06"
       ]
      },
      {
       "output_type": "stream",
       "stream": "stdout",
       "text": [
        " No result found!\n",
        "2013-04-07"
       ]
      },
      {
       "output_type": "stream",
       "stream": "stdout",
       "text": [
        " 2013-04-08 "
       ]
      },
      {
       "output_type": "stream",
       "stream": "stdout",
       "text": [
        "No result found!\n",
        "2013-04-09"
       ]
      },
      {
       "output_type": "stream",
       "stream": "stdout",
       "text": [
        " No result found!\n",
        "2013-04-10"
       ]
      },
      {
       "output_type": "stream",
       "stream": "stdout",
       "text": [
        " No result found!\n",
        "2013-04-11"
       ]
      },
      {
       "output_type": "stream",
       "stream": "stdout",
       "text": [
        " No result found!\n",
        "2013-04-12"
       ]
      },
      {
       "output_type": "stream",
       "stream": "stdout",
       "text": [
        " No result found!\n",
        "2013-04-13"
       ]
      },
      {
       "output_type": "stream",
       "stream": "stdout",
       "text": [
        " No result found!\n",
        "2013-04-14"
       ]
      },
      {
       "output_type": "stream",
       "stream": "stdout",
       "text": [
        " 2013-04-15 "
       ]
      },
      {
       "output_type": "stream",
       "stream": "stdout",
       "text": [
        "No result found!\n",
        "2013-04-16"
       ]
      },
      {
       "output_type": "stream",
       "stream": "stdout",
       "text": [
        " No result found!\n",
        "2013-04-17"
       ]
      },
      {
       "output_type": "stream",
       "stream": "stdout",
       "text": [
        " No result found!\n",
        "2013-04-18"
       ]
      },
      {
       "output_type": "stream",
       "stream": "stdout",
       "text": [
        " No result found!\n",
        "2013-04-19"
       ]
      },
      {
       "output_type": "stream",
       "stream": "stdout",
       "text": [
        " No result found!\n",
        "2013-04-20"
       ]
      },
      {
       "output_type": "stream",
       "stream": "stdout",
       "text": [
        " No result found!\n",
        "2013-04-21"
       ]
      },
      {
       "output_type": "stream",
       "stream": "stdout",
       "text": [
        " 2013-04-22 "
       ]
      },
      {
       "output_type": "stream",
       "stream": "stdout",
       "text": [
        "No result found!\n",
        "2013-04-23"
       ]
      },
      {
       "output_type": "stream",
       "stream": "stdout",
       "text": [
        " No result found!\n",
        "2013-04-24"
       ]
      },
      {
       "output_type": "stream",
       "stream": "stdout",
       "text": [
        " No result found!\n",
        "2013-04-25"
       ]
      },
      {
       "output_type": "stream",
       "stream": "stdout",
       "text": [
        " No result found!\n",
        "2013-04-26"
       ]
      },
      {
       "output_type": "stream",
       "stream": "stdout",
       "text": [
        " No result found!\n",
        "2013-04-27"
       ]
      },
      {
       "output_type": "stream",
       "stream": "stdout",
       "text": [
        " No result found!\n",
        "2013-04-28"
       ]
      },
      {
       "output_type": "stream",
       "stream": "stdout",
       "text": [
        " 2013-04-29 "
       ]
      },
      {
       "output_type": "stream",
       "stream": "stdout",
       "text": [
        "No result found!\n",
        "2013-04-30"
       ]
      },
      {
       "output_type": "stream",
       "stream": "stdout",
       "text": [
        " No result found!\n",
        "2013-04-31"
       ]
      },
      {
       "output_type": "stream",
       "stream": "stdout",
       "text": [
        " No result found!\n",
        "2013-05-01"
       ]
      },
      {
       "output_type": "stream",
       "stream": "stdout",
       "text": [
        " No result found!\n",
        "2013-05-02"
       ]
      },
      {
       "output_type": "stream",
       "stream": "stdout",
       "text": [
        " No result found!\n",
        "2013-05-03"
       ]
      },
      {
       "output_type": "stream",
       "stream": "stdout",
       "text": [
        " No result found!\n",
        "2013-05-04"
       ]
      },
      {
       "output_type": "stream",
       "stream": "stdout",
       "text": [
        " No result found!\n",
        "2013-05-05"
       ]
      },
      {
       "output_type": "stream",
       "stream": "stdout",
       "text": [
        " 2013-05-06 "
       ]
      },
      {
       "output_type": "stream",
       "stream": "stdout",
       "text": [
        "No result found!\n",
        "2013-05-07"
       ]
      },
      {
       "output_type": "stream",
       "stream": "stdout",
       "text": [
        " 2013-05-08 "
       ]
      },
      {
       "output_type": "stream",
       "stream": "stdout",
       "text": [
        "No result found!\n",
        "2013-05-09"
       ]
      },
      {
       "output_type": "stream",
       "stream": "stdout",
       "text": [
        " No result found!\n",
        "2013-05-10"
       ]
      },
      {
       "output_type": "stream",
       "stream": "stdout",
       "text": [
        " No result found!\n",
        "2013-05-11"
       ]
      },
      {
       "output_type": "stream",
       "stream": "stdout",
       "text": [
        " No result found!\n",
        "2013-05-12"
       ]
      },
      {
       "output_type": "stream",
       "stream": "stdout",
       "text": [
        " 2013-05-13 "
       ]
      },
      {
       "output_type": "stream",
       "stream": "stdout",
       "text": [
        "No result found!\n",
        "2013-05-14"
       ]
      },
      {
       "output_type": "stream",
       "stream": "stdout",
       "text": [
        " No result found!\n",
        "2013-05-15"
       ]
      },
      {
       "output_type": "stream",
       "stream": "stdout",
       "text": [
        " No result found!\n",
        "2013-05-16"
       ]
      },
      {
       "output_type": "stream",
       "stream": "stdout",
       "text": [
        " No result found!\n",
        "2013-05-17"
       ]
      },
      {
       "output_type": "stream",
       "stream": "stdout",
       "text": [
        " No result found!\n",
        "2013-05-18"
       ]
      },
      {
       "output_type": "stream",
       "stream": "stdout",
       "text": [
        " No result found!\n",
        "2013-05-19"
       ]
      },
      {
       "output_type": "stream",
       "stream": "stdout",
       "text": [
        " 2013-05-20 "
       ]
      },
      {
       "output_type": "stream",
       "stream": "stdout",
       "text": [
        "No result found!\n",
        "2013-05-21"
       ]
      },
      {
       "output_type": "stream",
       "stream": "stdout",
       "text": [
        " No result found!\n",
        "2013-05-22"
       ]
      },
      {
       "output_type": "stream",
       "stream": "stdout",
       "text": [
        " No result found!\n",
        "2013-05-23"
       ]
      },
      {
       "output_type": "stream",
       "stream": "stdout",
       "text": [
        " No result found!\n",
        "2013-05-24"
       ]
      },
      {
       "output_type": "stream",
       "stream": "stdout",
       "text": [
        " No result found!\n",
        "2013-05-25"
       ]
      },
      {
       "output_type": "stream",
       "stream": "stdout",
       "text": [
        " No result found!\n",
        "2013-05-26"
       ]
      },
      {
       "output_type": "stream",
       "stream": "stdout",
       "text": [
        " 2013-05-27 "
       ]
      },
      {
       "output_type": "stream",
       "stream": "stdout",
       "text": [
        "No result found!\n",
        "2013-05-28"
       ]
      },
      {
       "output_type": "stream",
       "stream": "stdout",
       "text": [
        " No result found!\n",
        "2013-05-29"
       ]
      },
      {
       "output_type": "stream",
       "stream": "stdout",
       "text": [
        " No result found!\n",
        "2013-05-30"
       ]
      },
      {
       "output_type": "stream",
       "stream": "stdout",
       "text": [
        " No result found!\n",
        "2013-05-31"
       ]
      },
      {
       "output_type": "stream",
       "stream": "stdout",
       "text": [
        " No result found!\n",
        "2013-06-01"
       ]
      },
      {
       "output_type": "stream",
       "stream": "stdout",
       "text": [
        " No result found!\n",
        "2013-06-02"
       ]
      },
      {
       "output_type": "stream",
       "stream": "stdout",
       "text": [
        " 2013-06-03 "
       ]
      },
      {
       "output_type": "stream",
       "stream": "stdout",
       "text": [
        "No result found!\n",
        "2013-06-04"
       ]
      },
      {
       "output_type": "stream",
       "stream": "stdout",
       "text": [
        " No result found!\n",
        "2013-06-05"
       ]
      },
      {
       "output_type": "stream",
       "stream": "stdout",
       "text": [
        " 2013-06-06 "
       ]
      },
      {
       "output_type": "stream",
       "stream": "stdout",
       "text": [
        "No result found!\n",
        "2013-06-07"
       ]
      },
      {
       "output_type": "stream",
       "stream": "stdout",
       "text": [
        " No result found!\n",
        "2013-06-08"
       ]
      },
      {
       "output_type": "stream",
       "stream": "stdout",
       "text": [
        " No result found!\n",
        "2013-06-09"
       ]
      },
      {
       "output_type": "stream",
       "stream": "stdout",
       "text": [
        " 2013-06-10 "
       ]
      },
      {
       "output_type": "stream",
       "stream": "stdout",
       "text": [
        "No result found!\n",
        "2013-06-11"
       ]
      },
      {
       "output_type": "stream",
       "stream": "stdout",
       "text": [
        " No result found!\n",
        "2013-06-12"
       ]
      },
      {
       "output_type": "stream",
       "stream": "stdout",
       "text": [
        " No result found!\n",
        "2013-06-13"
       ]
      },
      {
       "output_type": "stream",
       "stream": "stdout",
       "text": [
        " No result found!\n",
        "2013-06-14"
       ]
      },
      {
       "output_type": "stream",
       "stream": "stdout",
       "text": [
        " No result found!\n",
        "2013-06-15"
       ]
      },
      {
       "output_type": "stream",
       "stream": "stdout",
       "text": [
        " No result found!\n",
        "2013-06-16"
       ]
      },
      {
       "output_type": "stream",
       "stream": "stdout",
       "text": [
        " 2013-06-17 "
       ]
      },
      {
       "output_type": "stream",
       "stream": "stdout",
       "text": [
        "No result found!\n",
        "2013-06-18"
       ]
      },
      {
       "output_type": "stream",
       "stream": "stdout",
       "text": [
        " No result found!\n",
        "2013-06-19"
       ]
      },
      {
       "output_type": "stream",
       "stream": "stdout",
       "text": [
        " No result found!\n",
        "2013-06-20"
       ]
      },
      {
       "output_type": "stream",
       "stream": "stdout",
       "text": [
        " No result found!\n",
        "2013-06-21"
       ]
      },
      {
       "output_type": "stream",
       "stream": "stdout",
       "text": [
        " No result found!\n",
        "2013-06-22"
       ]
      },
      {
       "output_type": "stream",
       "stream": "stdout",
       "text": [
        " No result found!\n",
        "2013-06-23"
       ]
      },
      {
       "output_type": "stream",
       "stream": "stdout",
       "text": [
        " 2013-06-24 "
       ]
      },
      {
       "output_type": "stream",
       "stream": "stdout",
       "text": [
        "No result found!\n",
        "2013-06-25"
       ]
      },
      {
       "output_type": "stream",
       "stream": "stdout",
       "text": [
        " No result found!\n",
        "2013-06-26"
       ]
      },
      {
       "output_type": "stream",
       "stream": "stdout",
       "text": [
        " No result found!\n",
        "2013-06-27"
       ]
      },
      {
       "output_type": "stream",
       "stream": "stdout",
       "text": [
        " No result found!\n",
        "2013-06-28"
       ]
      },
      {
       "output_type": "stream",
       "stream": "stdout",
       "text": [
        " No result found!\n",
        "2013-06-29"
       ]
      },
      {
       "output_type": "stream",
       "stream": "stdout",
       "text": [
        " No result found!\n",
        "2013-06-30"
       ]
      },
      {
       "output_type": "stream",
       "stream": "stdout",
       "text": [
        " 2013-06-31 "
       ]
      },
      {
       "output_type": "stream",
       "stream": "stdout",
       "text": [
        "No result found!\n",
        "2013-07-01"
       ]
      },
      {
       "output_type": "stream",
       "stream": "stdout",
       "text": [
        " No result found!\n",
        "2013-07-02"
       ]
      },
      {
       "output_type": "stream",
       "stream": "stdout",
       "text": [
        " No result found!\n",
        "2013-07-03"
       ]
      },
      {
       "output_type": "stream",
       "stream": "stdout",
       "text": [
        " 2013-07-04 "
       ]
      },
      {
       "output_type": "stream",
       "stream": "stdout",
       "text": [
        "No result found!\n",
        "2013-07-05"
       ]
      },
      {
       "output_type": "stream",
       "stream": "stdout",
       "text": [
        " No result found!\n",
        "2013-07-06"
       ]
      },
      {
       "output_type": "stream",
       "stream": "stdout",
       "text": [
        " No result found!\n",
        "2013-07-07"
       ]
      },
      {
       "output_type": "stream",
       "stream": "stdout",
       "text": [
        " 2013-07-08 "
       ]
      },
      {
       "output_type": "stream",
       "stream": "stdout",
       "text": [
        "No result found!\n",
        "2013-07-09"
       ]
      },
      {
       "output_type": "stream",
       "stream": "stdout",
       "text": [
        " No result found!\n",
        "2013-07-10"
       ]
      },
      {
       "output_type": "stream",
       "stream": "stdout",
       "text": [
        " No result found!\n",
        "2013-07-11"
       ]
      },
      {
       "output_type": "stream",
       "stream": "stdout",
       "text": [
        " No result found!\n",
        "2013-07-12"
       ]
      },
      {
       "output_type": "stream",
       "stream": "stdout",
       "text": [
        " No result found!\n",
        "2013-07-13"
       ]
      },
      {
       "output_type": "stream",
       "stream": "stdout",
       "text": [
        " No result found!\n",
        "2013-07-14"
       ]
      },
      {
       "output_type": "stream",
       "stream": "stdout",
       "text": [
        " 2013-07-15 "
       ]
      },
      {
       "output_type": "stream",
       "stream": "stdout",
       "text": [
        "No result found!\n",
        "2013-07-16"
       ]
      },
      {
       "output_type": "stream",
       "stream": "stdout",
       "text": [
        " No result found!\n",
        "2013-07-17"
       ]
      },
      {
       "output_type": "stream",
       "stream": "stdout",
       "text": [
        " No result found!\n",
        "2013-07-18"
       ]
      },
      {
       "output_type": "stream",
       "stream": "stdout",
       "text": [
        " No result found!\n",
        "2013-07-19"
       ]
      },
      {
       "output_type": "stream",
       "stream": "stdout",
       "text": [
        " No result found!\n",
        "2013-07-20"
       ]
      },
      {
       "output_type": "stream",
       "stream": "stdout",
       "text": [
        " No result found!\n",
        "2013-07-21"
       ]
      },
      {
       "output_type": "stream",
       "stream": "stdout",
       "text": [
        " 2013-07-22 "
       ]
      },
      {
       "output_type": "stream",
       "stream": "stdout",
       "text": [
        "No result found!\n",
        "2013-07-23"
       ]
      },
      {
       "output_type": "stream",
       "stream": "stdout",
       "text": [
        " No result found!\n",
        "2013-07-24"
       ]
      },
      {
       "output_type": "stream",
       "stream": "stdout",
       "text": [
        " No result found!\n",
        "2013-07-25"
       ]
      },
      {
       "output_type": "stream",
       "stream": "stdout",
       "text": [
        " No result found!\n",
        "2013-07-26"
       ]
      },
      {
       "output_type": "stream",
       "stream": "stdout",
       "text": [
        " No result found!\n",
        "2013-07-27"
       ]
      },
      {
       "output_type": "stream",
       "stream": "stdout",
       "text": [
        " No result found!\n",
        "2013-07-28"
       ]
      },
      {
       "output_type": "stream",
       "stream": "stdout",
       "text": [
        " 2013-07-29 "
       ]
      },
      {
       "output_type": "stream",
       "stream": "stdout",
       "text": [
        "No result found!\n",
        "2013-07-30"
       ]
      },
      {
       "output_type": "stream",
       "stream": "stdout",
       "text": [
        " No result found!\n",
        "2013-07-31"
       ]
      },
      {
       "output_type": "stream",
       "stream": "stdout",
       "text": [
        " No result found!\n",
        "2013-08-01"
       ]
      },
      {
       "output_type": "stream",
       "stream": "stdout",
       "text": [
        " No result found!\n",
        "2013-08-02"
       ]
      },
      {
       "output_type": "stream",
       "stream": "stdout",
       "text": [
        " No result found!\n",
        "2013-08-03"
       ]
      },
      {
       "output_type": "stream",
       "stream": "stdout",
       "text": [
        " No result found!\n",
        "2013-08-04"
       ]
      },
      {
       "output_type": "stream",
       "stream": "stdout",
       "text": [
        " 2013-08-05 "
       ]
      },
      {
       "output_type": "stream",
       "stream": "stdout",
       "text": [
        "2013-08-06 "
       ]
      },
      {
       "output_type": "stream",
       "stream": "stdout",
       "text": [
        "No result found!\n",
        "2013-08-07"
       ]
      },
      {
       "output_type": "stream",
       "stream": "stdout",
       "text": [
        " No result found!\n",
        "2013-08-08"
       ]
      },
      {
       "output_type": "stream",
       "stream": "stdout",
       "text": [
        " No result found!\n",
        "2013-08-09"
       ]
      },
      {
       "output_type": "stream",
       "stream": "stdout",
       "text": [
        " No result found!\n",
        "2013-08-10"
       ]
      },
      {
       "output_type": "stream",
       "stream": "stdout",
       "text": [
        " No result found!\n",
        "2013-08-11"
       ]
      },
      {
       "output_type": "stream",
       "stream": "stdout",
       "text": [
        " 2013-08-12 "
       ]
      },
      {
       "output_type": "stream",
       "stream": "stdout",
       "text": [
        "No result found!\n",
        "2013-08-13"
       ]
      },
      {
       "output_type": "stream",
       "stream": "stdout",
       "text": [
        " No result found!\n",
        "2013-08-14"
       ]
      },
      {
       "output_type": "stream",
       "stream": "stdout",
       "text": [
        " No result found!\n",
        "2013-08-15"
       ]
      },
      {
       "output_type": "stream",
       "stream": "stdout",
       "text": [
        " No result found!\n",
        "2013-08-16"
       ]
      },
      {
       "output_type": "stream",
       "stream": "stdout",
       "text": [
        " No result found!\n",
        "2013-08-17"
       ]
      },
      {
       "output_type": "stream",
       "stream": "stdout",
       "text": [
        " No result found!\n",
        "2013-08-18"
       ]
      },
      {
       "output_type": "stream",
       "stream": "stdout",
       "text": [
        " 2013-08-19 "
       ]
      },
      {
       "output_type": "stream",
       "stream": "stdout",
       "text": [
        "No result found!\n",
        "2013-08-20"
       ]
      },
      {
       "output_type": "stream",
       "stream": "stdout",
       "text": [
        " No result found!\n",
        "2013-08-21"
       ]
      },
      {
       "output_type": "stream",
       "stream": "stdout",
       "text": [
        " No result found!\n",
        "2013-08-22"
       ]
      },
      {
       "output_type": "stream",
       "stream": "stdout",
       "text": [
        " No result found!\n",
        "2013-08-23"
       ]
      },
      {
       "output_type": "stream",
       "stream": "stdout",
       "text": [
        " No result found!\n",
        "2013-08-24"
       ]
      },
      {
       "output_type": "stream",
       "stream": "stdout",
       "text": [
        " No result found!\n",
        "2013-08-25"
       ]
      },
      {
       "output_type": "stream",
       "stream": "stdout",
       "text": [
        " 2013-08-26 "
       ]
      },
      {
       "output_type": "stream",
       "stream": "stdout",
       "text": [
        "No result found!\n",
        "2013-08-27"
       ]
      },
      {
       "output_type": "stream",
       "stream": "stdout",
       "text": [
        " No result found!\n",
        "2013-08-28"
       ]
      },
      {
       "output_type": "stream",
       "stream": "stdout",
       "text": [
        " No result found!\n",
        "2013-08-29"
       ]
      },
      {
       "output_type": "stream",
       "stream": "stdout",
       "text": [
        " No result found!\n",
        "2013-08-30"
       ]
      },
      {
       "output_type": "stream",
       "stream": "stdout",
       "text": [
        " No result found!\n",
        "2013-08-31"
       ]
      },
      {
       "output_type": "stream",
       "stream": "stdout",
       "text": [
        " No result found!\n",
        "2013-09-01"
       ]
      },
      {
       "output_type": "stream",
       "stream": "stdout",
       "text": [
        " 2013-09-02 "
       ]
      },
      {
       "output_type": "stream",
       "stream": "stdout",
       "text": [
        "No result found!\n",
        "2013-09-03"
       ]
      },
      {
       "output_type": "stream",
       "stream": "stdout",
       "text": [
        " No result found!\n",
        "2013-09-04"
       ]
      },
      {
       "output_type": "stream",
       "stream": "stdout",
       "text": [
        " 2013-09-05 "
       ]
      },
      {
       "output_type": "stream",
       "stream": "stdout",
       "text": [
        "No result found!\n",
        "2013-09-06"
       ]
      },
      {
       "output_type": "stream",
       "stream": "stdout",
       "text": [
        " No result found!\n",
        "2013-09-07"
       ]
      },
      {
       "output_type": "stream",
       "stream": "stdout",
       "text": [
        " No result found!\n",
        "2013-09-08"
       ]
      },
      {
       "output_type": "stream",
       "stream": "stdout",
       "text": [
        " 2013-09-09 "
       ]
      },
      {
       "output_type": "stream",
       "stream": "stdout",
       "text": [
        "No result found!\n",
        "2013-09-10"
       ]
      },
      {
       "output_type": "stream",
       "stream": "stdout",
       "text": [
        " No result found!\n",
        "2013-09-11"
       ]
      },
      {
       "output_type": "stream",
       "stream": "stdout",
       "text": [
        " No result found!\n",
        "2013-09-12"
       ]
      },
      {
       "output_type": "stream",
       "stream": "stdout",
       "text": [
        " No result found!\n",
        "2013-09-13"
       ]
      },
      {
       "output_type": "stream",
       "stream": "stdout",
       "text": [
        " No result found!\n",
        "2013-09-14"
       ]
      },
      {
       "output_type": "stream",
       "stream": "stdout",
       "text": [
        " No result found!\n",
        "2013-09-15"
       ]
      },
      {
       "output_type": "stream",
       "stream": "stdout",
       "text": [
        " 2013-09-16 "
       ]
      },
      {
       "output_type": "stream",
       "stream": "stdout",
       "text": [
        "No result found!\n",
        "2013-09-17"
       ]
      },
      {
       "output_type": "stream",
       "stream": "stdout",
       "text": [
        " No result found!\n",
        "2013-09-18"
       ]
      },
      {
       "output_type": "stream",
       "stream": "stdout",
       "text": [
        " No result found!\n",
        "2013-09-19"
       ]
      },
      {
       "output_type": "stream",
       "stream": "stdout",
       "text": [
        " No result found!\n",
        "2013-09-20"
       ]
      },
      {
       "output_type": "stream",
       "stream": "stdout",
       "text": [
        " No result found!\n",
        "2013-09-21"
       ]
      },
      {
       "output_type": "stream",
       "stream": "stdout",
       "text": [
        " No result found!\n",
        "2013-09-22"
       ]
      },
      {
       "output_type": "stream",
       "stream": "stdout",
       "text": [
        " 2013-09-23 "
       ]
      },
      {
       "output_type": "stream",
       "stream": "stdout",
       "text": [
        "No result found!\n",
        "2013-09-24"
       ]
      },
      {
       "output_type": "stream",
       "stream": "stdout",
       "text": [
        " No result found!\n",
        "2013-09-25"
       ]
      },
      {
       "output_type": "stream",
       "stream": "stdout",
       "text": [
        " No result found!\n",
        "2013-09-26"
       ]
      },
      {
       "output_type": "stream",
       "stream": "stdout",
       "text": [
        " No result found!\n",
        "2013-09-27"
       ]
      },
      {
       "output_type": "stream",
       "stream": "stdout",
       "text": [
        " No result found!\n",
        "2013-09-28"
       ]
      },
      {
       "output_type": "stream",
       "stream": "stdout",
       "text": [
        " No result found!\n",
        "2013-09-29"
       ]
      },
      {
       "output_type": "stream",
       "stream": "stdout",
       "text": [
        " 2013-09-30 "
       ]
      },
      {
       "output_type": "stream",
       "stream": "stdout",
       "text": [
        "No result found!\n",
        "2013-09-31"
       ]
      },
      {
       "output_type": "stream",
       "stream": "stdout",
       "text": [
        " No result found!\n",
        "2013-10-01"
       ]
      },
      {
       "output_type": "stream",
       "stream": "stdout",
       "text": [
        " No result found!\n",
        "2013-10-02"
       ]
      },
      {
       "output_type": "stream",
       "stream": "stdout",
       "text": [
        " No result found!\n",
        "2013-10-03"
       ]
      },
      {
       "output_type": "stream",
       "stream": "stdout",
       "text": [
        " No result found!\n",
        "2013-10-04"
       ]
      },
      {
       "output_type": "stream",
       "stream": "stdout",
       "text": [
        " 2013-10-05 "
       ]
      },
      {
       "output_type": "stream",
       "stream": "stdout",
       "text": [
        "No result found!\n",
        "2013-10-06"
       ]
      },
      {
       "output_type": "stream",
       "stream": "stdout",
       "text": [
        " No result found!\n",
        "2013-10-07"
       ]
      },
      {
       "output_type": "stream",
       "stream": "stdout",
       "text": [
        " No result found!\n",
        "2013-10-08"
       ]
      },
      {
       "output_type": "stream",
       "stream": "stdout",
       "text": [
        " No result found!\n",
        "2013-10-09"
       ]
      },
      {
       "output_type": "stream",
       "stream": "stdout",
       "text": [
        " No result found!\n",
        "2013-10-10"
       ]
      },
      {
       "output_type": "stream",
       "stream": "stdout",
       "text": [
        " No result found!\n",
        "2013-10-11"
       ]
      },
      {
       "output_type": "stream",
       "stream": "stdout",
       "text": [
        " No result found!\n",
        "2013-10-12"
       ]
      },
      {
       "output_type": "stream",
       "stream": "stdout",
       "text": [
        " No result found!\n",
        "2013-10-13"
       ]
      },
      {
       "output_type": "stream",
       "stream": "stdout",
       "text": [
        " 2013-10-14 "
       ]
      },
      {
       "output_type": "stream",
       "stream": "stdout",
       "text": [
        "No result found!\n",
        "2013-10-15"
       ]
      },
      {
       "output_type": "stream",
       "stream": "stdout",
       "text": [
        " No result found!\n",
        "2013-10-16"
       ]
      },
      {
       "output_type": "stream",
       "stream": "stdout",
       "text": [
        " No result found!\n",
        "2013-10-17"
       ]
      },
      {
       "output_type": "stream",
       "stream": "stdout",
       "text": [
        " No result found!\n",
        "2013-10-18"
       ]
      },
      {
       "output_type": "stream",
       "stream": "stdout",
       "text": [
        " No result found!\n",
        "2013-10-19"
       ]
      },
      {
       "output_type": "stream",
       "stream": "stdout",
       "text": [
        " No result found!\n",
        "2013-10-20"
       ]
      },
      {
       "output_type": "stream",
       "stream": "stdout",
       "text": [
        " 2013-10-21 "
       ]
      },
      {
       "output_type": "stream",
       "stream": "stdout",
       "text": [
        "No result found!\n",
        "2013-10-22"
       ]
      },
      {
       "output_type": "stream",
       "stream": "stdout",
       "text": [
        " No result found!\n",
        "2013-10-23"
       ]
      },
      {
       "output_type": "stream",
       "stream": "stdout",
       "text": [
        " No result found!\n",
        "2013-10-24"
       ]
      },
      {
       "output_type": "stream",
       "stream": "stdout",
       "text": [
        " No result found!\n",
        "2013-10-25"
       ]
      },
      {
       "output_type": "stream",
       "stream": "stdout",
       "text": [
        " No result found!\n",
        "2013-10-26"
       ]
      },
      {
       "output_type": "stream",
       "stream": "stdout",
       "text": [
        " No result found!\n",
        "2013-10-27"
       ]
      },
      {
       "output_type": "stream",
       "stream": "stdout",
       "text": [
        " 2013-10-28 "
       ]
      },
      {
       "output_type": "stream",
       "stream": "stdout",
       "text": [
        "No result found!\n",
        "2013-10-29"
       ]
      },
      {
       "output_type": "stream",
       "stream": "stdout",
       "text": [
        " No result found!\n",
        "2013-10-30"
       ]
      },
      {
       "output_type": "stream",
       "stream": "stdout",
       "text": [
        " No result found!\n",
        "2013-10-31"
       ]
      },
      {
       "output_type": "stream",
       "stream": "stdout",
       "text": [
        " No result found!\n",
        "2013-11-01"
       ]
      },
      {
       "output_type": "stream",
       "stream": "stdout",
       "text": [
        " No result found!\n",
        "2013-11-02"
       ]
      },
      {
       "output_type": "stream",
       "stream": "stdout",
       "text": [
        " No result found!\n",
        "2013-11-03"
       ]
      },
      {
       "output_type": "stream",
       "stream": "stdout",
       "text": [
        " 2013-11-04 "
       ]
      },
      {
       "output_type": "stream",
       "stream": "stdout",
       "text": [
        "No result found!\n",
        "2013-11-05"
       ]
      },
      {
       "output_type": "stream",
       "stream": "stdout",
       "text": [
        " No result found!\n",
        "2013-11-06"
       ]
      },
      {
       "output_type": "stream",
       "stream": "stdout",
       "text": [
        " No result found!\n",
        "2013-11-07"
       ]
      },
      {
       "output_type": "stream",
       "stream": "stdout",
       "text": [
        " 2013-11-08 "
       ]
      },
      {
       "output_type": "stream",
       "stream": "stdout",
       "text": [
        "No result found!\n",
        "2013-11-09"
       ]
      },
      {
       "output_type": "stream",
       "stream": "stdout",
       "text": [
        " No result found!\n",
        "2013-11-10"
       ]
      },
      {
       "output_type": "stream",
       "stream": "stdout",
       "text": [
        " 2013-11-11 "
       ]
      },
      {
       "output_type": "stream",
       "stream": "stdout",
       "text": [
        "No result found!\n",
        "2013-11-12"
       ]
      },
      {
       "output_type": "stream",
       "stream": "stdout",
       "text": [
        " No result found!\n",
        "2013-11-13"
       ]
      },
      {
       "output_type": "stream",
       "stream": "stdout",
       "text": [
        " No result found!\n",
        "2013-11-14"
       ]
      },
      {
       "output_type": "stream",
       "stream": "stdout",
       "text": [
        " No result found!\n",
        "2013-11-15"
       ]
      },
      {
       "output_type": "stream",
       "stream": "stdout",
       "text": [
        " No result found!\n",
        "2013-11-16"
       ]
      },
      {
       "output_type": "stream",
       "stream": "stdout",
       "text": [
        " No result found!\n",
        "2013-11-17"
       ]
      },
      {
       "output_type": "stream",
       "stream": "stdout",
       "text": [
        " 2013-11-18 "
       ]
      },
      {
       "output_type": "stream",
       "stream": "stdout",
       "text": [
        "No result found!\n",
        "2013-11-19"
       ]
      },
      {
       "output_type": "stream",
       "stream": "stdout",
       "text": [
        " No result found!\n",
        "2013-11-20"
       ]
      },
      {
       "output_type": "stream",
       "stream": "stdout",
       "text": [
        " No result found!\n",
        "2013-11-21"
       ]
      },
      {
       "output_type": "stream",
       "stream": "stdout",
       "text": [
        " No result found!\n",
        "2013-11-22"
       ]
      },
      {
       "output_type": "stream",
       "stream": "stdout",
       "text": [
        " No result found!\n",
        "2013-11-23"
       ]
      },
      {
       "output_type": "stream",
       "stream": "stdout",
       "text": [
        " No result found!\n",
        "2013-11-24"
       ]
      },
      {
       "output_type": "stream",
       "stream": "stdout",
       "text": [
        " 2013-11-25 "
       ]
      },
      {
       "output_type": "stream",
       "stream": "stdout",
       "text": [
        "No result found!\n",
        "2013-11-26"
       ]
      },
      {
       "output_type": "stream",
       "stream": "stdout",
       "text": [
        " No result found!\n",
        "2013-11-27"
       ]
      },
      {
       "output_type": "stream",
       "stream": "stdout",
       "text": [
        " No result found!\n",
        "2013-11-28"
       ]
      },
      {
       "output_type": "stream",
       "stream": "stdout",
       "text": [
        " No result found!\n",
        "2013-11-29"
       ]
      },
      {
       "output_type": "stream",
       "stream": "stdout",
       "text": [
        " No result found!\n",
        "2013-11-30"
       ]
      },
      {
       "output_type": "stream",
       "stream": "stdout",
       "text": [
        " No result found!\n",
        "2013-11-31"
       ]
      },
      {
       "output_type": "stream",
       "stream": "stdout",
       "text": [
        " No result found!\n",
        "2013-12-01"
       ]
      },
      {
       "output_type": "stream",
       "stream": "stdout",
       "text": [
        " 2013-12-02 "
       ]
      },
      {
       "output_type": "stream",
       "stream": "stdout",
       "text": [
        "No result found!\n",
        "2013-12-03"
       ]
      },
      {
       "output_type": "stream",
       "stream": "stdout",
       "text": [
        " No result found!\n",
        "2013-12-04"
       ]
      },
      {
       "output_type": "stream",
       "stream": "stdout",
       "text": [
        " 2013-12-05 "
       ]
      },
      {
       "output_type": "stream",
       "stream": "stdout",
       "text": [
        "No result found!\n",
        "2013-12-06"
       ]
      },
      {
       "output_type": "stream",
       "stream": "stdout",
       "text": [
        " No result found!\n",
        "2013-12-07"
       ]
      },
      {
       "output_type": "stream",
       "stream": "stdout",
       "text": [
        " No result found!\n",
        "2013-12-08"
       ]
      },
      {
       "output_type": "stream",
       "stream": "stdout",
       "text": [
        " 2013-12-09 "
       ]
      },
      {
       "output_type": "stream",
       "stream": "stdout",
       "text": [
        "No result found!\n",
        "2013-12-10"
       ]
      },
      {
       "output_type": "stream",
       "stream": "stdout",
       "text": [
        " No result found!\n",
        "2013-12-11"
       ]
      },
      {
       "output_type": "stream",
       "stream": "stdout",
       "text": [
        " No result found!\n",
        "2013-12-12"
       ]
      },
      {
       "output_type": "stream",
       "stream": "stdout",
       "text": [
        " No result found!\n",
        "2013-12-13"
       ]
      },
      {
       "output_type": "stream",
       "stream": "stdout",
       "text": [
        " No result found!\n",
        "2013-12-14"
       ]
      },
      {
       "output_type": "stream",
       "stream": "stdout",
       "text": [
        " No result found!\n",
        "2013-12-15"
       ]
      },
      {
       "output_type": "stream",
       "stream": "stdout",
       "text": [
        " 2013-12-16 "
       ]
      },
      {
       "output_type": "stream",
       "stream": "stdout",
       "text": [
        "No result found!\n",
        "2013-12-17"
       ]
      },
      {
       "output_type": "stream",
       "stream": "stdout",
       "text": [
        " No result found!\n",
        "2013-12-18"
       ]
      },
      {
       "output_type": "stream",
       "stream": "stdout",
       "text": [
        " No result found!\n",
        "2013-12-19"
       ]
      },
      {
       "output_type": "stream",
       "stream": "stdout",
       "text": [
        " No result found!\n",
        "2013-12-20"
       ]
      },
      {
       "output_type": "stream",
       "stream": "stdout",
       "text": [
        " No result found!\n",
        "2013-12-21"
       ]
      },
      {
       "output_type": "stream",
       "stream": "stdout",
       "text": [
        " No result found!\n",
        "2013-12-22"
       ]
      },
      {
       "output_type": "stream",
       "stream": "stdout",
       "text": [
        " 2013-12-23 "
       ]
      },
      {
       "output_type": "stream",
       "stream": "stdout",
       "text": [
        "No result found!\n",
        "2013-12-24"
       ]
      },
      {
       "output_type": "stream",
       "stream": "stdout",
       "text": [
        " No result found!\n",
        "2013-12-25"
       ]
      },
      {
       "output_type": "stream",
       "stream": "stdout",
       "text": [
        " No result found!\n",
        "2013-12-26"
       ]
      },
      {
       "output_type": "stream",
       "stream": "stdout",
       "text": [
        " No result found!\n",
        "2013-12-27"
       ]
      },
      {
       "output_type": "stream",
       "stream": "stdout",
       "text": [
        " No result found!\n",
        "2013-12-28"
       ]
      },
      {
       "output_type": "stream",
       "stream": "stdout",
       "text": [
        " No result found!\n",
        "2013-12-29"
       ]
      },
      {
       "output_type": "stream",
       "stream": "stdout",
       "text": [
        " No result found!\n",
        "2013-12-30"
       ]
      },
      {
       "output_type": "stream",
       "stream": "stdout",
       "text": [
        " No result found!\n",
        "2013-12-31"
       ]
      },
      {
       "output_type": "stream",
       "stream": "stdout",
       "text": [
        " No result found!\n"
       ]
      }
     ],
     "prompt_number": 60
    },
    {
     "cell_type": "markdown",
     "metadata": {},
     "source": [
      "And the below code will crawl IEEE and Springer accordingly"
     ]
    },
    {
     "cell_type": "code",
     "collapsed": false,
     "input": [
      "## crawl IEEE Xplore\n",
      "#keyword = urllib.quote_plus(\"graphene\")\n",
      "#url = \"http://ieeexplore.ieee.org/gateway/ipsSearch.jsp?&hc=1&querytext=\" + keyword\n",
      "#content = urllib2.urlopen(url).read()\n",
      "#tree = ET.fromstring(content)\n",
      "#for child in tree.iter('title'):\n",
      "#   print child.text\n",
      "#\n",
      "## crawl Springer\n",
      "#url = 'http://api.springer.com/metadata/json?p=100&q=title:graphene&api_key=3a3sxqg25fmwnzrsy2qmgjds'\n",
      "#content = urllib2.urlopen(url).read()\n",
      "#data = json.loads(content)\n",
      "#for record in data['records']:\n",
      "#   print record['title'].encode('utf-8')\n",
      "#   #print record['doi'].encode('utf-8')"
     ],
     "language": "python",
     "metadata": {},
     "outputs": [],
     "prompt_number": 13
    },
    {
     "cell_type": "markdown",
     "metadata": {},
     "source": [
      "## Codes to analyze the downloaded json file\n",
      "\n",
      "Now I need to take in the description of each entry from the json file and feed it into the WordCount class. In order to count the occurance of words in all texts, I need to create a WordCount class. This class should have a function which takes in a certain string, count the occurance of each word in that string, and add the result to the previously stored values in that class. So below is the code to make such a class."
     ]
    },
    {
     "cell_type": "code",
     "collapsed": false,
     "input": [
      "#!/usr/bin/env python\n",
      "# -*- coding: utf-8 -*-\n",
      "\n",
      "import json\n",
      "from pprint import pprint\n",
      "\n",
      "class WordCount:\n",
      "    \"\"\"A simple word count class\"\"\"\n",
      "    def __init__(self):\n",
      "        self.word_table = {}\n",
      "        self.msg = ''\n",
      "        self.ignore_list = {}\n",
      "        self.ignore_list = ('of', 'the', 'a', 'to', 'and', 'in', 'be', 'as', \\\n",
      "                            'that', 'this', 'can', 'for', 'have', 'is', 'with', \\\n",
      "                            'by', 'are', 'used', 'such', 'on', 'it', 'at', 'from', \\\n",
      "                            'high', 'has', 'an', 'which', '(', ')', ',', 'made', 'its', \\\n",
      "                            'new', '2013', '.', 'two', '-', 'researchers', 'been', 'or', \\\n",
      "                            'using', 'state', '\\\u2014', 'not')\n",
      "\n",
      "    def append(self, string):\n",
      "        # print 'Analyzing...'\n",
      "        new_word_array = split_string.split()\n",
      "        \n",
      "        for aword in new_word_array:\n",
      "            # ignore the normal words\n",
      "            if aword in self.ignore_list:\n",
      "                continue\n",
      "            if aword in self.word_table:\n",
      "                # if the word exists, add 1\n",
      "                self.word_table[aword] = self.word_table[aword] + 1\n",
      "            else:\n",
      "                # if the word does not exist, init the key with 1\n",
      "                self.word_table[aword] = 1\n",
      "                \n",
      "        return self.msg"
     ],
     "language": "python",
     "metadata": {},
     "outputs": [],
     "prompt_number": 38
    },
    {
     "cell_type": "markdown",
     "metadata": {},
     "source": [
      "Now it is time to open the json file and analyze it."
     ]
    },
    {
     "cell_type": "code",
     "collapsed": false,
     "input": [
      "json_data=open('./nnano-2012.json')\n",
      "data = json.load(json_data)\n",
      "word_count = WordCount()\n",
      "\n",
      "split_string = ''\n",
      "for entry in data:\n",
      "    if entry[u'dc:description']:\n",
      "        split_string = entry[u'dc:description'].replace('<p>', '').replace('</p>', '').replace(',','').replace('.','') \\\n",
      "                        .replace('\\'','').replace('(','').replace(')','').replace('-', ' ').lower()\n",
      "        word_count.append(split_string)"
     ],
     "language": "python",
     "metadata": {},
     "outputs": [],
     "prompt_number": 67
    },
    {
     "cell_type": "markdown",
     "metadata": {},
     "source": [
      "Here I have the need to sort word_table by each key value. So I take this chance and start to learn a bit about NumPy, SciPy and Pandas."
     ]
    },
    {
     "cell_type": "code",
     "collapsed": false,
     "input": [
      "import numpy as np\n",
      "import pandas as pd\n",
      "#from pandas import *\n",
      "import matplotlib.pyplot as plt"
     ],
     "language": "python",
     "metadata": {},
     "outputs": [],
     "prompt_number": 41
    },
    {
     "cell_type": "markdown",
     "metadata": {},
     "source": [
      "Series is a one-dimensional labeled array capable of holding any data type (integers, strings, floating point numbers, Python objects, etc.). The axis labels are collectively referred to as the index. The basic method to create a Series is to call:\n",
      "\n",
      "```\n",
      "s = Series(data, index=index)\n",
      "```\n",
      "\n",
      "Here, data can be many different things:\n",
      "\n",
      "- a Python dict\n",
      "- an ndarray\n",
      "- a scalar value (like 5)\n",
      "\n",
      "Here in this app, we use dict. Before counting the actual science words, I need to create a table containing all the \"normal\" english words such as 'as', 'of', 'but'. These words should be ignored in the counting. The word table will be screened against this normal word table to eliminate these words first. This is done inthe WordCount class's ignore_list - well, after some test, I found that the list can go so long that it is not practical to manually list it. Need some algo to construct such a list.\n",
      "\n",
      "I can use the order() and sort() function of a Series to sort the Series by value. order() returns a new array and sort() is in place."
     ]
    },
    {
     "cell_type": "code",
     "collapsed": false,
     "input": [
      "s = pd.Series(word_count.word_table)\n",
      "print s.order()"
     ],
     "language": "python",
     "metadata": {},
     "outputs": [
      {
       "output_type": "stream",
       "stream": "stdout",
       "text": [
        "+                            1\n",
        "mesoscopic                   1\n",
        "met                          1\n",
        "metabolism                   1\n",
        "metal:chalcogen              1\n",
        "metallicity                  1\n",
        "metallized                   1\n",
        "metal\u2013oxide\u2013semiconductor    1\n",
        "merit                        1\n",
        "metamaterial                 1\n",
        "methodologies                1\n",
        "metre                        1\n",
        "metrology                    1\n",
        "micelle                      1\n",
        "michelle                     1\n",
        "...\n",
        "by       164\n",
        "for      178\n",
        "are      190\n",
        "be       191\n",
        "can      206\n",
        "we       211\n",
        "is       217\n",
        "with     224\n",
        "that     297\n",
        "in       450\n",
        "to       514\n",
        "a        575\n",
        "and      751\n",
        "of       915\n",
        "the     1211\n",
        "Length: 4141, dtype: int64\n"
       ]
      }
     ],
     "prompt_number": 25
    },
    {
     "cell_type": "markdown",
     "metadata": {},
     "source": [
      "## Use the ready-made tools like scikit learn and NLTK\n",
      "\n",
      "This time I try to use some tools made for natual language processing to analyze the texts.\n",
      "\n",
      "The below code tries to use [scikit count vectorizer](http://scikit-learn.org/stable/modules/generated/sklearn.feature_extraction.text.CountVectorizer.html)."
     ]
    },
    {
     "cell_type": "code",
     "collapsed": false,
     "input": [
      "from sklearn.feature_extraction.text import CountVectorizer\n",
      "from sklearn.feature_extraction.text import TfidfVectorizer\n",
      "\n",
      "all_text = ''\n",
      "paragraph = ''\n",
      "\n",
      "for entry in data:\n",
      "    paragraph = entry[u'dc:description'].replace('<p>','').replace('</p>','').replace('<span>','').replace('</span>','') \\\n",
      "                .replace(u'\\u2014',u'-').replace('<sup>','').replace('</sup>','').replace('<sub>','').replace('</sub>','')\n",
      "    all_text = all_text + paragraph\n",
      "\n",
      "cv = CountVectorizer(min_df=1)\n",
      "#cv = TfidfVectorizer(min_df=1)\n",
      "\n",
      "counts = cv.fit_transform([all_text]).toarray().ravel()                                                \n",
      "words = np.array(cv.get_feature_names()) \n",
      "# normalize\n",
      "# counts = counts / float(counts.max())\n",
      "\n",
      "result = {}\n",
      "\n",
      "ignore_list = ('of', 'the', 'a', 'to', 'and', 'in', 'be', 'as', \\\n",
      "                            'that', 'this', 'can', 'for', 'have', 'is', 'with', \\\n",
      "                            'by', 'are', 'used', 'such', 'on', 'it', 'at', 'from', \\\n",
      "                            'high', 'has', 'an', 'which', '(', ')', ',', 'made', 'its', \\\n",
      "                            'new', '2013', '2012', '.', 'two', '-', 'researchers', 'been', 'or', \\\n",
      "                            'using', 'state', '\\u2014', 'not', 'than', 'into', 'their', 'our', \\\n",
      "                            'because', 'under', 'both', 'over', 'other', 'based', 'these', 'show',\\\n",
      "                            'non', 'more', 'also', 'but', 'between', 'however', 'here', 'we', \\\n",
      "                            'most', 'times', 'recent', 'small', 'long', 'usually', 'overall', \\\n",
      "                            'leading', 'led', 'consistent', 'realize', 'existing', 'produced', 'relatively', \\\n",
      "                            'current', 'role', 'mos')\n",
      "\n",
      "for i in range(0,len(counts)-1):\n",
      "    if words[i] not in ignore_list:\n",
      "        result[words[i]] = counts[i]\n",
      "\n",
      "s = pd.Series(result)\n",
      "print s.order()"
     ],
     "language": "python",
     "metadata": {},
     "outputs": [
      {
       "output_type": "stream",
       "stream": "stdout",
       "text": [
        "\u00e5ngstrom         1\n",
        "mobilities       1\n",
        "sorting          1\n",
        "equator          1\n",
        "pure             1\n",
        "equals           1\n",
        "mode             1\n",
        "purdue           1\n",
        "epitaxy          1\n",
        "sound            1\n",
        "models           1\n",
        "pumps            1\n",
        "envisaged        1\n",
        "modification     1\n",
        "modifications    1\n",
        "...\n",
        "applications      45\n",
        "metal             46\n",
        "molecular         47\n",
        "cells             48\n",
        "magnetic          50\n",
        "spin              56\n",
        "properties        57\n",
        "electron          60\n",
        "materials         62\n",
        "surface           66\n",
        "devices           75\n",
        "graphene          79\n",
        "nanoparticles     82\n",
        "quantum           88\n",
        "single           108\n",
        "Length: 3896, dtype: int64\n"
       ]
      }
     ],
     "prompt_number": 69
    },
    {
     "cell_type": "markdown",
     "metadata": {},
     "source": [
      "And the below code uses the [NLTK](http://www.nltk.org/) package to analyze the same text"
     ]
    }
   ],
   "metadata": {}
  }
 ]
}