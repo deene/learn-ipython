{
 "metadata": {
  "name": "",
  "signature": "sha256:487f2f328a98257781b7411915e6d1dc4bdfe570913fa63639deb7ad15ba246e"
 },
 "nbformat": 3,
 "nbformat_minor": 0,
 "worksheets": [
  {
   "cells": [
    {
     "cell_type": "markdown",
     "metadata": {},
     "source": [
      "# This notebook is dedicated to the study of data mining"
     ]
    },
    {
     "cell_type": "markdown",
     "metadata": {},
     "source": [
      "## How to download from Nature\n",
      "\n",
      "The below code downloads data from nature and save into json."
     ]
    },
    {
     "cell_type": "markdown",
     "metadata": {},
     "source": [
      "## How to parse XML in Python?\n",
      "\n",
      "[This stackoverflow post](http://stackoverflow.com/questions/1912434/how-do-i-parse-xml-in-python) explains how to use Python to parse XML.\n",
      "\n",
      "minidom is the quickest and pretty straight forward:\n",
      "\n",
      "```XML\n",
      "<data>\n",
      "    <items>\n",
      "        <item name=\"item1\"></item>\n",
      "        <item name=\"item2\"></item>\n",
      "        <item name=\"item3\"></item>\n",
      "        <item name=\"item4\"></item>\n",
      "    </items>\n",
      "</data>\n",
      "```\n",
      "\n",
      "```Python\n",
      "from xml.dom import minidom\n",
      "xmldoc = minidom.parse('items.xml')\n",
      "itemlist = xmldoc.getElementsByTagName('item') \n",
      "print len(itemlist)\n",
      "print itemlist[0].attributes['name'].value\n",
      "for s in itemlist :\n",
      "    print s.attributes['name'].value\n",
      "```\n",
      "\n",
      "```Output\n",
      "4\n",
      "item1\n",
      "item1\n",
      "item2\n",
      "item3\n",
      "item4\n",
      "```\n",
      "\n",
      "And I can use the ```s.childNodes[0].nodeValue``` to get the inner value.\n",
      "\n",
      "Below is the test code working on the nature-2010.xml that I downloaded from Nature. I can use the [intentXML](https://github.com/alek-sys/sublimetext_indentxml) sublime plugin to make the XML file look nicer."
     ]
    },
    {
     "cell_type": "markdown",
     "metadata": {},
     "source": [
      "But this code does not work as the xml file downloaded from nature is kind of [junky](http://stackoverflow.com/questions/26008046/xml-parsing-error-junk-after-document-element-in-twilio).\n",
      "\n",
      "So instead, I try the json approach. (use the [prettyJSON](https://github.com/dzhibas/SublimePrettyJson) sublime plugin to make the json file look nicer."
     ]
    },
    {
     "cell_type": "markdown",
     "metadata": {},
     "source": [
      "## Code to crawl Nature publications.\n",
      "\n",
      "The following code uses the Nature API to search for papers published in Nature."
     ]
    },
    {
     "cell_type": "code",
     "collapsed": false,
     "input": [
      "import json\n",
      "import urllib2, urllib\n",
      "import time\n",
      "\n",
      "content = None # to store the response of the query\n",
      "jsonObjArray = [] # to store all the entries extracted from the response\n",
      "\n",
      "# Crawl nature\n",
      "print \"start -----\"\n",
      "\n",
      "# loop years\n",
      "for year in range(2006, 2014):\n",
      "    # setup the file to write\n",
      "    fileName = 'nnano-' + str(year) + '.json'\n",
      "    myfile = open(fileName, 'w+')\n",
      "    yearWord = str(year)\n",
      "\n",
      "    # loop months\n",
      "    for month in range(1,13):\n",
      "        if month < 10:\n",
      "            monthWord =  '0' + str(month)\n",
      "        else:\n",
      "            monthWord = str(month)\n",
      "        \n",
      "        # loop days\n",
      "        for day in range(1,32):\n",
      "            \n",
      "            # make all day number two digits\n",
      "            if day<10:\n",
      "                dayWord = '0' + str(day)\n",
      "            else:\n",
      "                dayWord = str(day)\n",
      "            \n",
      "            # construct the targetDate string\n",
      "            targetDate = yearWord + '-' + monthWord + '-' + dayWord\n",
      "            print targetDate,\n",
      "            \n",
      "            # construct the queryWord to be sent\n",
      "            queryWord = 'prism.productCode=nnano+AND+prism.publicationDate=' + targetDate\n",
      "            url = 'http://api.nature.com/content/opensearch/request?&recordPacking=unpacked&queryType=cql&maximumRecords=100&httpAccept=application/json&query=' + queryWord\n",
      "            \n",
      "            # start the query by calling urllib2\n",
      "            try:\n",
      "                content = urllib2.urlopen(url).read()\n",
      "                data = json.loads(content)\n",
      "            except:\n",
      "                print \"URL error\"\n",
      "                continue\n",
      "            \n",
      "            # if the response is not empty, then extract the entries\n",
      "            if data['feed']['opensearch:totalResults'] != 0:\n",
      "                for entry in data['feed'][\"entry\"]:\n",
      "                    jsonObjArray.append(entry)\n",
      "                print \"Result found\"\n",
      "            else:\n",
      "                print \"No result found!\"\n",
      "            \n",
      "            # put a delay so that we don't overload the nature servers\n",
      "            time.sleep(1)\n",
      "    \n",
      "    # store the entries to the output file\n",
      "    json.dump(jsonObjArray, myfile, indent=4)\n",
      "    myfile.close()"
     ],
     "language": "python",
     "metadata": {},
     "outputs": [
      {
       "output_type": "stream",
       "stream": "stdout",
       "text": [
        "start -----\n",
        "2006-01-01 "
       ]
      },
      {
       "output_type": "stream",
       "stream": "stdout",
       "text": [
        "No result found!\n",
        "2006-01-02"
       ]
      },
      {
       "output_type": "stream",
       "stream": "stdout",
       "text": [
        " No result found!\n",
        "2006-01-03"
       ]
      },
      {
       "output_type": "stream",
       "stream": "stdout",
       "text": [
        " No result found!\n",
        "2006-01-04"
       ]
      },
      {
       "output_type": "stream",
       "stream": "stdout",
       "text": [
        " No result found!\n",
        "2006-01-05"
       ]
      },
      {
       "output_type": "stream",
       "stream": "stdout",
       "text": [
        " No result found!\n",
        "2006-01-06"
       ]
      },
      {
       "output_type": "stream",
       "stream": "stdout",
       "text": [
        " No result found!\n",
        "2006-01-07"
       ]
      },
      {
       "output_type": "stream",
       "stream": "stdout",
       "text": [
        " No result found!\n",
        "2006-01-08"
       ]
      },
      {
       "output_type": "stream",
       "stream": "stdout",
       "text": [
        " No result found!\n",
        "2006-01-09"
       ]
      },
      {
       "output_type": "stream",
       "stream": "stdout",
       "text": [
        " No result found!\n",
        "2006-01-10"
       ]
      },
      {
       "output_type": "stream",
       "stream": "stdout",
       "text": [
        " No result found!\n",
        "2006-01-11"
       ]
      },
      {
       "output_type": "stream",
       "stream": "stdout",
       "text": [
        " No result found!\n",
        "2006-01-12"
       ]
      },
      {
       "output_type": "stream",
       "stream": "stdout",
       "text": [
        " No result found!\n",
        "2006-01-13"
       ]
      },
      {
       "output_type": "stream",
       "stream": "stdout",
       "text": [
        " No result found!\n",
        "2006-01-14"
       ]
      },
      {
       "output_type": "stream",
       "stream": "stdout",
       "text": [
        " No result found!\n",
        "2006-01-15"
       ]
      },
      {
       "output_type": "stream",
       "stream": "stdout",
       "text": [
        " No result found!\n",
        "2006-01-16"
       ]
      },
      {
       "output_type": "stream",
       "stream": "stdout",
       "text": [
        " No result found!\n"
       ]
      },
      {
       "ename": "KeyboardInterrupt",
       "evalue": "",
       "output_type": "pyerr",
       "traceback": [
        "\u001b[0;31m---------------------------------------------------------------------------\u001b[0m\n\u001b[0;31mKeyboardInterrupt\u001b[0m                         Traceback (most recent call last)",
        "\u001b[0;32m<ipython-input-1-d3165e1a90da>\u001b[0m in \u001b[0;36m<module>\u001b[0;34m()\u001b[0m\n\u001b[1;32m     57\u001b[0m \u001b[0;34m\u001b[0m\u001b[0m\n\u001b[1;32m     58\u001b[0m             \u001b[0;31m# put a delay so that we don't overload the nature servers\u001b[0m\u001b[0;34m\u001b[0m\u001b[0;34m\u001b[0m\u001b[0m\n\u001b[0;32m---> 59\u001b[0;31m             \u001b[0mtime\u001b[0m\u001b[0;34m.\u001b[0m\u001b[0msleep\u001b[0m\u001b[0;34m(\u001b[0m\u001b[0;36m1\u001b[0m\u001b[0;34m)\u001b[0m\u001b[0;34m\u001b[0m\u001b[0m\n\u001b[0m\u001b[1;32m     60\u001b[0m \u001b[0;34m\u001b[0m\u001b[0m\n\u001b[1;32m     61\u001b[0m     \u001b[0;31m# store the entries to the output file\u001b[0m\u001b[0;34m\u001b[0m\u001b[0;34m\u001b[0m\u001b[0m\n",
        "\u001b[0;31mKeyboardInterrupt\u001b[0m: "
       ]
      }
     ],
     "prompt_number": 1
    },
    {
     "cell_type": "markdown",
     "metadata": {},
     "source": [
      "And the below code will crawl IEEE and Springer accordingly"
     ]
    },
    {
     "cell_type": "code",
     "collapsed": false,
     "input": [
      "## crawl IEEE Xplore\n",
      "#keyword = urllib.quote_plus(\"graphene\")\n",
      "#url = \"http://ieeexplore.ieee.org/gateway/ipsSearch.jsp?&hc=1&querytext=\" + keyword\n",
      "#content = urllib2.urlopen(url).read()\n",
      "#tree = ET.fromstring(content)\n",
      "#for child in tree.iter('title'):\n",
      "#   print child.text\n",
      "#\n",
      "## crawl Springer\n",
      "#url = 'http://api.springer.com/metadata/json?p=100&q=title:graphene&api_key=3a3sxqg25fmwnzrsy2qmgjds'\n",
      "#content = urllib2.urlopen(url).read()\n",
      "#data = json.loads(content)\n",
      "#for record in data['records']:\n",
      "#   print record['title'].encode('utf-8')\n",
      "#   #print record['doi'].encode('utf-8')"
     ],
     "language": "python",
     "metadata": {},
     "outputs": []
    },
    {
     "cell_type": "markdown",
     "metadata": {},
     "source": [
      "## Codes to analyze the downloaded json file\n",
      "\n",
      "Now I need to take in the description of each entry from the json file and feed it into the WordCount class. In order to count the occurance of words in all texts, I need to create a WordCount class. This class should have a function which takes in a certain string, count the occurance of each word in that string, and add the result to the previously stored values in that class. So below is the code to make such a class."
     ]
    },
    {
     "cell_type": "code",
     "collapsed": false,
     "input": [
      "#!/usr/bin/env python\n",
      "# -*- coding: utf-8 -*-\n",
      "\n",
      "import json\n",
      "from pprint import pprint\n",
      "\n",
      "class WordCount:\n",
      "    \"\"\"A simple word count class\"\"\"\n",
      "    def __init__(self):\n",
      "        self.word_table = {}\n",
      "        self.msg = ''\n",
      "        self.ignore_list = {}\n",
      "        self.ignore_list = ('of', 'the', 'a', 'to', 'and', 'in', 'be', 'as', \\\n",
      "                            'that', 'this', 'can', 'for', 'have', 'is', 'with', \\\n",
      "                            'by', 'are', 'used', 'such', 'on', 'it', 'at', 'from', \\\n",
      "                            'high', 'has', 'an', 'which', '(', ')', ',', 'made', 'its', \\\n",
      "                            'new', '2013', '.', 'two', '-', 'researchers', 'been', 'or', \\\n",
      "                            'using', 'state', '\\\u2014', 'not')\n",
      "\n",
      "    def append(self, string):\n",
      "        # print 'Analyzing...'\n",
      "        new_word_array = split_string.split()\n",
      "        \n",
      "        for aword in new_word_array:\n",
      "            # ignore the normal words\n",
      "            if aword in self.ignore_list:\n",
      "                continue\n",
      "            if aword in self.word_table:\n",
      "                # if the word exists, add 1\n",
      "                self.word_table[aword] = self.word_table[aword] + 1\n",
      "            else:\n",
      "                # if the word does not exist, init the key with 1\n",
      "                self.word_table[aword] = 1\n",
      "                \n",
      "        return self.msg"
     ],
     "language": "python",
     "metadata": {},
     "outputs": []
    },
    {
     "cell_type": "markdown",
     "metadata": {},
     "source": [
      "Now it is time to open the json file and analyze it."
     ]
    },
    {
     "cell_type": "code",
     "collapsed": false,
     "input": [
      "json_data=open('./nnano-2012.json')\n",
      "data = json.load(json_data)\n",
      "word_count = WordCount()\n",
      "\n",
      "split_string = ''\n",
      "for entry in data:\n",
      "    if entry[u'dc:description']:\n",
      "        split_string = entry[u'dc:description'].replace('<p>', '').replace('</p>', '').replace(',','').replace('.','') \\\n",
      "                        .replace('\\'','').replace('(','').replace(')','').replace('-', ' ').lower()\n",
      "        word_count.append(split_string)"
     ],
     "language": "python",
     "metadata": {},
     "outputs": []
    },
    {
     "cell_type": "markdown",
     "metadata": {},
     "source": [
      "Here I have the need to sort word_table by each key value. So I take this chance and start to learn a bit about NumPy, SciPy and Pandas."
     ]
    },
    {
     "cell_type": "code",
     "collapsed": false,
     "input": [
      "import numpy as np\n",
      "import pandas as pd\n",
      "#from pandas import *\n",
      "import matplotlib.pyplot as plt"
     ],
     "language": "python",
     "metadata": {},
     "outputs": []
    },
    {
     "cell_type": "markdown",
     "metadata": {},
     "source": [
      "Series is a one-dimensional labeled array capable of holding any data type (integers, strings, floating point numbers, Python objects, etc.). The axis labels are collectively referred to as the index. The basic method to create a Series is to call:\n",
      "\n",
      "```\n",
      "s = Series(data, index=index)\n",
      "```\n",
      "\n",
      "Here, data can be many different things:\n",
      "\n",
      "- a Python dict\n",
      "- an ndarray\n",
      "- a scalar value (like 5)\n",
      "\n",
      "Here in this app, we use dict. Before counting the actual science words, I need to create a table containing all the \"normal\" english words such as 'as', 'of', 'but'. These words should be ignored in the counting. The word table will be screened against this normal word table to eliminate these words first. This is done inthe WordCount class's ignore_list - well, after some test, I found that the list can go so long that it is not practical to manually list it. Need some algo to construct such a list.\n",
      "\n",
      "I can use the order() and sort() function of a Series to sort the Series by value. order() returns a new array and sort() is in place."
     ]
    },
    {
     "cell_type": "code",
     "collapsed": false,
     "input": [
      "s = pd.Series(word_count.word_table)\n",
      "print s.order()"
     ],
     "language": "python",
     "metadata": {},
     "outputs": []
    },
    {
     "cell_type": "markdown",
     "metadata": {},
     "source": [
      "## Use the ready-made tools like scikit learn and NLTK\n",
      "\n",
      "This time I try to use some tools made for natual language processing to analyze the texts.\n",
      "\n",
      "The below code tries to use [scikit count vectorizer](http://scikit-learn.org/stable/modules/generated/sklearn.feature_extraction.text.CountVectorizer.html) and its related [tutorial](http://scikit-learn.org/dev/modules/feature_extraction.html#common-vectorizer-usage)"
     ]
    },
    {
     "cell_type": "code",
     "collapsed": false,
     "input": [
      "%matplotlib inline\n",
      "import json\n",
      "import numpy as np\n",
      "import pandas as pd\n",
      "import matplotlib.pyplot as plt\n",
      "from sklearn.feature_extraction.text import CountVectorizer\n",
      "from sklearn.feature_extraction.text import TfidfVectorizer\n",
      "\n",
      "resultByYear = {}\n",
      "allTerms = []\n",
      "\n",
      "for year in range(2006, 2015):\n",
      "    fileName = 'nnano-' + str(year)\n",
      "    json_data=open(fileName + '.json')\n",
      "    data = json.load(json_data)\n",
      "\n",
      "    all_text = ''\n",
      "    paragraph = ''\n",
      "\n",
      "    for entry in data:\n",
      "        paragraph = entry[u'dc:description'].replace('<p>','').replace('</p>','').replace('<span>','').replace('</span>','') \\\n",
      "                    .replace(u'\\u2014',u'-').replace('<sup>','').replace('</sup>','').replace('<sub>','').replace('</sub>','')\n",
      "        all_text = all_text + paragraph\n",
      "\n",
      "    cv = CountVectorizer(min_df=1)\n",
      "    counts = cv.fit_transform([all_text]).toarray().ravel()                                                \n",
      "    words = np.array(cv.get_feature_names()) \n",
      "\n",
      "    tempResult = {}\n",
      "\n",
      "    ignore_list = ('of', 'the', 'a', 'to', 'and', 'in', 'be', 'as', \\\n",
      "                'that', 'this', 'can', 'for', 'have', 'is', 'with', \\\n",
      "                'by', 'are', 'used', 'such', 'on', 'it', 'at', 'from', \\\n",
      "                'high', 'has', 'an', 'which', '(', ')', ',', 'made', 'its', \\\n",
      "                'new', '2013', '2012', '.', 'two', '-', 'researchers', 'been', 'or', \\\n",
      "                'using', 'state', '\\u2014', 'not', 'than', 'into', 'their', 'our', \\\n",
      "                'because', 'under', 'both', 'over', 'other', 'based', 'these', 'show',\\\n",
      "                'non', 'more', 'also', 'but', 'between', 'however', 'here', 'we', \\\n",
      "                'most', 'times', 'recent', 'small', 'long', 'usually', 'overall', \\\n",
      "                'leading', 'led', 'consistent', 'realize', 'existing', 'produced', 'relatively', \\\n",
      "                'current', 'role', 'one', 'could', 'make', 'will', 'may', 'now', 'use', 'how', 'due', \\\n",
      "                'all', 'up', 'was', 'were')\n",
      "\n",
      "    for i in range(0,len(counts)-1):\n",
      "        if words[i] not in ignore_list:\n",
      "            tempResult[words[i]] = counts[i]\n",
      "    \n",
      "    tempResultCopy = tempResult.keys()\n",
      "    for word in tempResult.keys():\n",
      "        if word+'s' in tempResultCopy:\n",
      "            tempResult[word] = tempResult[word] + tempResult[(word+'s')]\n",
      "            del tempResult[(word+'s')]\n",
      "\n",
      "    resultByYear[str(year)] = pd.Series(tempResult).order(ascending=False)\n",
      "    \n",
      "    for index in resultByYear[str(year)].index:\n",
      "        if index not in allTerms:\n",
      "            allTerms.append(index)   \n",
      "            \n",
      "rows = range(2006, 2015)\n",
      "summaryTable = pd.DataFrame(index=rows, columns=allTerms)\n",
      "\n",
      "for col in allTerms:\n",
      "    for row in rows:\n",
      "        if col in resultByYear[str(row)].keys():\n",
      "            summaryTable.loc[row][col] = resultByYear[str(row)][col]\n",
      "\n",
      "top10Table = summaryTable[summaryTable.sum(axis=0).order(ascending=False)[0:9].keys()].fillna(0)\n",
      "print top10Table\n",
      "\n",
      "top10Table.plot(legend=False)"
     ],
     "language": "python",
     "metadata": {},
     "outputs": [
      {
       "output_type": "stream",
       "stream": "stdout",
       "text": [
        "      device  nanotube  single  nanoparticle  molecule  cell  spin  surface  \\\n",
        "2006      44        49      22            27        33    14     4       24   \n",
        "2007      98       173      91            86        92    66    34      100   \n",
        "2008      94       149     127            82        96    54    15       66   \n",
        "2009      91       121      94           104        86    72    21       82   \n",
        "2010     114        96     103            68        89    61    34       77   \n",
        "2011      72        66      94           141        76   145    62       75   \n",
        "2012     102        65     108            98        71    69    67       80   \n",
        "2013     111        76      93            95        79   112   188       60   \n",
        "2014     105        27      90            71        81    97   230       59   \n",
        "\n",
        "      electron  \n",
        "2006        15  \n",
        "2007        47  \n",
        "2008        81  \n",
        "2009        59  \n",
        "2010        67  \n",
        "2011        68  \n",
        "2012        81  \n",
        "2013        93  \n",
        "2014       107  \n"
       ]
      },
      {
       "metadata": {},
       "output_type": "pyout",
       "prompt_number": 2,
       "text": [
        "<matplotlib.axes._subplots.AxesSubplot at 0x10a9672d0>"
       ]
      },
      {
       "metadata": {},
       "output_type": "display_data",
       "png": "[encoded data removed]",
       "text": [
        "<matplotlib.figure.Figure at 0x10a0b1f10>"
       ]
      }
     ],
     "prompt_number": 2
    },
    {
     "cell_type": "code",
     "collapsed": false,
     "input": [
      "top10Table.describe()"
     ],
     "language": "python",
     "metadata": {},
     "outputs": [
      {
       "html": [
        "<div style=\"max-height:1000px;max-width:1500px;overflow:auto;\">\n",
        "<table border=\"1\" class=\"dataframe\">\n",
        "  <thead>\n",
        "    <tr style=\"text-align: right;\">\n",
        "      <th></th>\n",
        "      <th>device</th>\n",
        "      <th>nanotube</th>\n",
        "      <th>single</th>\n",
        "      <th>nanoparticle</th>\n",
        "      <th>molecule</th>\n",
        "      <th>cell</th>\n",
        "      <th>spin</th>\n",
        "      <th>surface</th>\n",
        "      <th>electron</th>\n",
        "    </tr>\n",
        "  </thead>\n",
        "  <tbody>\n",
        "    <tr>\n",
        "      <th>count</th>\n",
        "      <td>   9.000000</td>\n",
        "      <td>   9.000000</td>\n",
        "      <td>   9.000000</td>\n",
        "      <td>   9.000000</td>\n",
        "      <td>  9.000000</td>\n",
        "      <td>   9.000000</td>\n",
        "      <td>   9.000000</td>\n",
        "      <td>   9.000000</td>\n",
        "      <td>   9.000000</td>\n",
        "    </tr>\n",
        "    <tr>\n",
        "      <th>mean</th>\n",
        "      <td>  92.333333</td>\n",
        "      <td>  91.333333</td>\n",
        "      <td>  91.333333</td>\n",
        "      <td>  85.777778</td>\n",
        "      <td> 78.111111</td>\n",
        "      <td>  76.666667</td>\n",
        "      <td>  72.777778</td>\n",
        "      <td>  69.222222</td>\n",
        "      <td>  68.666667</td>\n",
        "    </tr>\n",
        "    <tr>\n",
        "      <th>std</th>\n",
        "      <td>  21.960191</td>\n",
        "      <td>  47.955709</td>\n",
        "      <td>  28.530685</td>\n",
        "      <td>  30.861699</td>\n",
        "      <td> 18.684515</td>\n",
        "      <td>  37.436613</td>\n",
        "      <td>  80.546226</td>\n",
        "      <td>  21.111477</td>\n",
        "      <td>  26.953664</td>\n",
        "    </tr>\n",
        "    <tr>\n",
        "      <th>min</th>\n",
        "      <td>  44.000000</td>\n",
        "      <td>  27.000000</td>\n",
        "      <td>  22.000000</td>\n",
        "      <td>  27.000000</td>\n",
        "      <td> 33.000000</td>\n",
        "      <td>  14.000000</td>\n",
        "      <td>   4.000000</td>\n",
        "      <td>  24.000000</td>\n",
        "      <td>  15.000000</td>\n",
        "    </tr>\n",
        "    <tr>\n",
        "      <th>25%</th>\n",
        "      <td>  91.000000</td>\n",
        "      <td>  65.000000</td>\n",
        "      <td>  91.000000</td>\n",
        "      <td>  71.000000</td>\n",
        "      <td> 76.000000</td>\n",
        "      <td>  61.000000</td>\n",
        "      <td>  21.000000</td>\n",
        "      <td>  60.000000</td>\n",
        "      <td>  59.000000</td>\n",
        "    </tr>\n",
        "    <tr>\n",
        "      <th>50%</th>\n",
        "      <td>  98.000000</td>\n",
        "      <td>  76.000000</td>\n",
        "      <td>  94.000000</td>\n",
        "      <td>  86.000000</td>\n",
        "      <td> 81.000000</td>\n",
        "      <td>  69.000000</td>\n",
        "      <td>  34.000000</td>\n",
        "      <td>  75.000000</td>\n",
        "      <td>  68.000000</td>\n",
        "    </tr>\n",
        "    <tr>\n",
        "      <th>75%</th>\n",
        "      <td> 105.000000</td>\n",
        "      <td> 121.000000</td>\n",
        "      <td> 103.000000</td>\n",
        "      <td>  98.000000</td>\n",
        "      <td> 89.000000</td>\n",
        "      <td>  97.000000</td>\n",
        "      <td>  67.000000</td>\n",
        "      <td>  80.000000</td>\n",
        "      <td>  81.000000</td>\n",
        "    </tr>\n",
        "    <tr>\n",
        "      <th>max</th>\n",
        "      <td> 114.000000</td>\n",
        "      <td> 173.000000</td>\n",
        "      <td> 127.000000</td>\n",
        "      <td> 141.000000</td>\n",
        "      <td> 96.000000</td>\n",
        "      <td> 145.000000</td>\n",
        "      <td> 230.000000</td>\n",
        "      <td> 100.000000</td>\n",
        "      <td> 107.000000</td>\n",
        "    </tr>\n",
        "  </tbody>\n",
        "</table>\n",
        "</div>"
       ],
       "metadata": {},
       "output_type": "pyout",
       "prompt_number": 3,
       "text": [
        "           device    nanotube      single  nanoparticle   molecule  \\\n",
        "count    9.000000    9.000000    9.000000      9.000000   9.000000   \n",
        "mean    92.333333   91.333333   91.333333     85.777778  78.111111   \n",
        "std     21.960191   47.955709   28.530685     30.861699  18.684515   \n",
        "min     44.000000   27.000000   22.000000     27.000000  33.000000   \n",
        "25%     91.000000   65.000000   91.000000     71.000000  76.000000   \n",
        "50%     98.000000   76.000000   94.000000     86.000000  81.000000   \n",
        "75%    105.000000  121.000000  103.000000     98.000000  89.000000   \n",
        "max    114.000000  173.000000  127.000000    141.000000  96.000000   \n",
        "\n",
        "             cell        spin     surface    electron  \n",
        "count    9.000000    9.000000    9.000000    9.000000  \n",
        "mean    76.666667   72.777778   69.222222   68.666667  \n",
        "std     37.436613   80.546226   21.111477   26.953664  \n",
        "min     14.000000    4.000000   24.000000   15.000000  \n",
        "25%     61.000000   21.000000   60.000000   59.000000  \n",
        "50%     69.000000   34.000000   75.000000   68.000000  \n",
        "75%     97.000000   67.000000   80.000000   81.000000  \n",
        "max    145.000000  230.000000  100.000000  107.000000  "
       ]
      }
     ],
     "prompt_number": 3
    },
    {
     "cell_type": "code",
     "collapsed": false,
     "input": [
      "import colorsys\n",
      "\n",
      "# Create a figure of given size\n",
      "fig = plt.figure(figsize=(14,10))\n",
      "# Add a subplot\n",
      "ax = fig.add_subplot(111)\n",
      "# Set title\n",
      "ttl = 'Top 10 Used Words in Nature Nanotechnology 2006-2014'\n",
      "# Set color transparency (0: transparent; 1: solid)\n",
      "a = 0.7\n",
      "# Plot the 'population' column as horizontal bar plot\n",
      "colormap = [(0.9, 0, 0.38), (0.88, 0.15, 0), (0.86, 0.65, 0), (0.55, 0.85, 0), \\\n",
      "            (0.4, 0.83, 0), (0, 0.81, 0.44), (0, 0.69, 0.8), (0, 0.21, 0.4), \\\n",
      "            (0.24, 0, 0.76), (0.69, 0, 0.75)]\n",
      "top10Table.plot(ax=ax, alpha=a, legend=False, title=ttl, color=colormap, linewidth=4)\n",
      "# Remove grid lines (dotted lines inside plot)\n",
      "ax.grid(False)\n",
      "# Remove plot frame\n",
      "ax.set_frame_on(False)\n",
      "# Customize title, set position, allow space on top of plot for title\n",
      "ax.set_title(ax.get_title(), fontsize=26, alpha=a, ha='left')\n",
      "plt.subplots_adjust(top=0.9)\n",
      "ax.title.set_position((0,1.08))\n",
      "# Set x axis label on top of plot, set label text\n",
      "ax.xaxis.set_label_position('bottom')\n",
      "xlab = ''\n",
      "ax.set_xlabel(xlab, fontsize=30, alpha=a, ha='left')\n",
      "ax.xaxis.set_label_coords(1.05, 0)\n",
      "# Position x tick labels on top\n",
      "ax.xaxis.tick_bottom()\n",
      "# Remove tick lines in x and y axes\n",
      "ax.yaxis.set_ticks_position('none')\n",
      "ax.xaxis.set_ticks_position('none')\n",
      "# Customize x tick lables\n",
      "xticks = range(2006,2015)\n",
      "ax.xaxis.set_ticks(xticks)\n",
      "ax.set_xticklabels(xticks, fontsize=20, alpha=a)\n",
      "# Customize y tick labels\n",
      "yticks = [50, 100, 150, 200, 250, 300]\n",
      "ax.set_yticklabels(yticks, fontsize=16, alpha=a)\n",
      "ax.yaxis.set_tick_params(pad=12)\n",
      "# remove the y ticks at origin\n",
      "yticks = ax.yaxis.get_major_ticks()\n",
      "yticks[0].label1.set_visible(False)\n",
      "# Position legend in lower right part\n",
      "# Set ncol=3 for horizontally expanding legend\n",
      "leg = ax.legend(frameon=False, fontsize=16, \\\n",
      "                bbox_to_anchor=[0.6, 1.0], handlelength=2, \\\n",
      "                handletextpad=1, columnspacing=2, title='')\n"
     ],
     "language": "python",
     "metadata": {},
     "outputs": []
    },
    {
     "cell_type": "code",
     "collapsed": false,
     "input": [
      "import operator\n",
      "%matplotlib inline\n",
      "import json\n",
      "import numpy as np\n",
      "import pandas as pd\n",
      "import matplotlib.pyplot as plt\n",
      "\n",
      "authorList = {}\n",
      "editors = [\"Gemma Moxham\", \"Samia Mantoura\", \"Ros Portman\", \"Adarsh Sandhu\", \"Ai Lin Chun\", \\\n",
      "           \"Tim Reid\", \"Jessica Thomas\", \"Peter Rodgers\", \"Owain Vaughan\", \"Stuart Cantrill\", \\\n",
      "           \"Michael Segal\", \"Alberto Moscatelli\", \"Elisa De Ranieri\", \"Fabio Pulizzi\"]           \n",
      "\n",
      "for year in range(2006, 2014):\n",
      "    fileName = 'nnano-' + str(year)\n",
      "    json_data=open(fileName + '.json')\n",
      "    data = json.load(json_data)\n",
      "    \n",
      "    for entry in data:\n",
      "        if not entry['dc:creator']:\n",
      "            continue\n",
      "        if entry[\"prism:genre\"] != 'Research':\n",
      "            continue\n",
      "            \n",
      "        for author in entry['dc:creator']:\n",
      "            author = author.replace('  ', ' ')\n",
      "            if author in editors:\n",
      "                continue\n",
      "            if not author in authorList.keys():\n",
      "                authorList[author] = 1\n",
      "            else:\n",
      "                authorList[author] = authorList[author] + 1\n",
      "            \n",
      "sortedAuthorList = sorted(authorList.items(), key=operator.itemgetter(1), reverse=True)\n",
      "\n",
      "authorSeries = pd.Series(authorList).order(ascending=False)[0:10].order(ascending=True)\n",
      "\n",
      "print authorSeries\n",
      "\n",
      "# Create a figure of given size\n",
      "fig = plt.figure(figsize=(16,12))\n",
      "# Add a subplot\n",
      "ax = fig.add_subplot(111)\n",
      "# Set title\n",
      "ttl = 'Top 10 Most Productive Authors in Nature Nanotechnology'\n",
      "# Set color transparency (0: transparent; 1: solid)\n",
      "a = 0.7\n",
      "# Create a colormap\n",
      "customcmap = [(x/24.0,  x/48.0, 0.05) for x in range(len(authorSeries))]\n",
      "# Plot the 'population' column as horizontal bar plot\n",
      "authorSeries.plot(kind='barh', ax=ax, alpha=a, legend=False, color=customcmap, \\\n",
      "                      edgecolor='w', xlim=(0,max(authorSeries)), title=ttl)\n",
      "# Remove grid lines (dotted lines inside plot)\n",
      "ax.grid(False)\n",
      "# Remove plot frame\n",
      "ax.set_frame_on(False)\n",
      "# Pandas trick: remove weird dotted line on axis\n",
      "ax.lines[0].set_visible(False)\n",
      " \n",
      "# Customize title, set position, allow space on top of plot for title\n",
      "ax.set_title(ax.get_title(), fontsize=26, alpha=a, ha='left')\n",
      "plt.subplots_adjust(top=0.9)\n",
      "ax.title.set_position((0,1.08))\n",
      " \n",
      "# Set x axis label on top of plot, set label text\n",
      "ax.xaxis.set_label_position('top')\n",
      "xlab = 'Number of Articles'\n",
      "ax.set_xlabel(xlab, fontsize=20, alpha=a, ha='left')\n",
      "ax.xaxis.set_label_coords(0, 1.04)\n",
      " \n",
      "# Position x tick labels on top\n",
      "ax.xaxis.tick_top()\n",
      "# Remove tick lines in x and y axes\n",
      "ax.yaxis.set_ticks_position('none')\n",
      "ax.xaxis.set_ticks_position('none')\n",
      " \n",
      "# Customize x tick lables\n",
      "xticks = [1,2,3,4,5,6,7,8,9,10]\n",
      "ax.xaxis.set_ticks(xticks)\n",
      "ax.set_xticklabels(xticks, fontsize=16, alpha=a)\n",
      " \n",
      "# Customize y tick labels\n",
      "yticks = [item.get_text() for item in ax.get_yticklabels()]\n",
      "ax.set_yticklabels(yticks, fontsize=16, alpha=a)\n",
      "ax.yaxis.set_tick_params(pad=12)  \n"
     ],
     "language": "python",
     "metadata": {},
     "outputs": [
      {
       "output_type": "stream",
       "stream": "stdout",
       "text": [
        "Angela M. Belcher     5\n",
        "John A. Rogers        5\n",
        "Sumio Iijima          5\n",
        "Nongjian Tao          5\n",
        "Edward H. Sargent     5\n",
        "Yi Cui                6\n",
        "Michael S. Strano     6\n",
        "Phaedon Avouris       7\n",
        "Hongjie Dai           9\n",
        "Charles M. Lieber    10\n",
        "dtype: int64\n"
       ]
      },
      {
       "metadata": {},
       "output_type": "display_data",
       "png": "[encoded data removed]",
       "text": [
        "<matplotlib.figure.Figure at 0x10e095050>"
       ]
      }
     ],
     "prompt_number": 1
    },
    {
     "cell_type": "code",
     "collapsed": false,
     "input": [],
     "language": "python",
     "metadata": {},
     "outputs": []
    }
   ],
   "metadata": {}
  }
 ]
}