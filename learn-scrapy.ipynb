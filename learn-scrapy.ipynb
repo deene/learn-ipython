{
 "metadata": {
  "name": "",
  "signature": "sha256:e4b591806b82be7895933d03cac016794a349f27f3c380f91bc74a21ca106941"
 },
 "nbformat": 3,
 "nbformat_minor": 0,
 "worksheets": [
  {
   "cells": [
    {
     "cell_type": "code",
     "collapsed": false,
     "input": [
      "from scrapy import Spider, Item, Field\n",
      "\n",
      "class Post(Item):\n",
      "    title = Field()\n",
      "\n",
      "class BlogSpider(Spider):\n",
      "    name, start_urls = 'blogspider', ['http://blog.scrapinghub.com']\n",
      "\n",
      "    def parse(self, response):\n",
      "        return [Post(title=e.extract()) for e in response.css(\"h2 a::text\")]"
     ],
     "language": "python",
     "metadata": {},
     "outputs": []
    }
   ],
   "metadata": {}
  }
 ]
}